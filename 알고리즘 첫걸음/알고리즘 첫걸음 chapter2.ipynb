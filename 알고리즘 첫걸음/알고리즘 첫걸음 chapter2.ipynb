{
 "cells": [
  {
   "cell_type": "markdown",
   "metadata": {},
   "source": [
    "> FizzBuzz"
   ]
  },
  {
   "cell_type": "code",
   "execution_count": 7,
   "metadata": {},
   "outputs": [
    {
     "name": "stdout",
     "output_type": "stream",
     "text": [
      "1 2 Fizz 4 Buzz Fizz 7 8 Fizz Buzz 11 Fizz 13 14 FizzBuzz 16 17 Fizz 19 Buzz Fizz 22 23 Fizz Buzz 26 Fizz 28 29 FizzBuzz 31 32 Fizz 34 Buzz Fizz 37 38 Fizz Buzz 41 Fizz 43 44 FizzBuzz 46 47 Fizz 49 Buzz Fizz 52 53 Fizz Buzz 56 Fizz 58 59 FizzBuzz 61 62 Fizz 64 Buzz Fizz 67 68 Fizz Buzz 71 Fizz 73 74 FizzBuzz 76 77 Fizz 79 Buzz Fizz 82 83 Fizz Buzz 86 Fizz 88 89 FizzBuzz 91 92 Fizz 94 Buzz Fizz 97 98 Fizz Buzz "
     ]
    }
   ],
   "source": [
    "# fizzbuzz\n",
    "for i in range(1,101):\n",
    "    if i % 3 == 0 and  i % 5 !=0:\n",
    "        i = 'Fizz'\n",
    "    elif i % 5 == 0 and i % 3 !=0:\n",
    "        i = 'Buzz'\n",
    "    elif i % 15 == 0:\n",
    "        i = 'FizzBuzz'\n",
    "    print(i,end=' ')"
   ]
  },
  {
   "cell_type": "code",
   "execution_count": 9,
   "metadata": {},
   "outputs": [
    {
     "name": "stdout",
     "output_type": "stream",
     "text": [
      "1 2 Fizz 4 Buzz Fizz 7 8 Fizz Buzz 11 Fizz 13 14 FizzBuzz 16 17 Fizz 19 Buzz Fizz 22 23 Fizz Buzz 26 Fizz 28 29 FizzBuzz 31 32 Fizz 34 Buzz Fizz 37 38 Fizz Buzz 41 Fizz 43 44 FizzBuzz 46 47 Fizz 49 Buzz Fizz 52 53 Fizz Buzz 56 Fizz 58 59 FizzBuzz 61 62 Fizz 64 Buzz Fizz 67 68 Fizz Buzz 71 Fizz 73 74 FizzBuzz 76 77 Fizz 79 Buzz Fizz 82 83 Fizz Buzz 86 Fizz 88 89 FizzBuzz 91 92 Fizz 94 Buzz Fizz 97 98 Fizz Buzz "
     ]
    }
   ],
   "source": [
    "# fizzbuzz\n",
    "for i in range(1,101):\n",
    "    if i % 3 == 0 and  i % 5 ==0:\n",
    "        i = 'FizzBuzz'\n",
    "    elif i % 3 == 0:\n",
    "        i = 'Fizz'\n",
    "    elif i % 5 == 0:\n",
    "        i = 'Buzz'\n",
    "    print(i,end=' ')"
   ]
  },
  {
   "cell_type": "code",
   "execution_count": 8,
   "metadata": {},
   "outputs": [
    {
     "name": "stdout",
     "output_type": "stream",
     "text": [
      "1 2 Fizz 4 Buzz Fizz 7 8 Fizz Buzz 11 Fizz 13 14 FizzBuzz 16 17 Fizz 19 Buzz Fizz 22 23 Fizz Buzz 26 Fizz 28 29 FizzBuzz 31 32 Fizz 34 Buzz Fizz 37 38 Fizz Buzz 41 Fizz 43 44 FizzBuzz 46 47 Fizz 49 Buzz "
     ]
    }
   ],
   "source": [
    "for i in range(1,51):\n",
    "    if i % 3 == 0:\n",
    "        if i % 5 ==0:\n",
    "            print('FizzBuzz',end= ' ')\n",
    "        else:\n",
    "            print('Fizz', end= ' ')\n",
    "    elif i % 5 ==0:\n",
    "        print('Buzz',end= ' ')\n",
    "    else:\n",
    "        print(i,end= ' ')"
   ]
  },
  {
   "cell_type": "markdown",
   "metadata": {},
   "source": [
    "> 거스름돈 계산"
   ]
  },
  {
   "cell_type": "code",
   "execution_count": 14,
   "metadata": {},
   "outputs": [
    {
     "name": "stdout",
     "output_type": "stream",
     "text": [
      "투입 금액 : 200000\n",
      "물건금액 : 123045\n",
      "거스름돈 : 76955\n",
      "10000: 7\n",
      "5000: 1\n",
      "1000: 1\n",
      "500: 1\n",
      "100: 4\n",
      "50: 1\n",
      "10: 0\n",
      "1: 5\n"
     ]
    }
   ],
   "source": [
    "insert_price = int(input('투입 금액을 입력:'))\n",
    "product_price = int(input('물건 금액:'))\n",
    "change = insert_price - product_price\n",
    "# 지폐는 10000원 5000원 1000원 500원 100원 50원 10원 1원\n",
    "\n",
    "print(f'투입 금액 : {insert_price}')\n",
    "print(f'물건금액 : {product_price}')\n",
    "print(f'거스름돈 : {change}')\n",
    "\n",
    "money_list = [10000,5000,1000,500,100,50,10,1]\n",
    "\n",
    "for i in money_list:\n",
    "    result = change//i\n",
    "    change = change % i\n",
    "    print(f'{i}: {result}')\n",
    "\n",
    "\n"
   ]
  },
  {
   "cell_type": "markdown",
   "metadata": {},
   "source": [
    "> 돈을 적게 넣는 경우와 에러 발생시 중단하는 기능 추가\n",
    "- isdecimal 메서드 : 입력된 값이 숫자인지 여부 파악"
   ]
  },
  {
   "cell_type": "code",
   "execution_count": 17,
   "metadata": {},
   "outputs": [
    {
     "name": "stdout",
     "output_type": "stream",
     "text": [
      "10000: 0\n",
      "5000: 0\n",
      "1000: 2\n",
      "500: 0\n",
      "100: 0\n",
      "50: 0\n",
      "10: 0\n",
      "1: 0\n"
     ]
    }
   ],
   "source": [
    "import sys # 오류 발생 시 강제 종료하기 위한 모듈을 불러옴\n",
    "\n",
    "insert_price = input('투입 금액을 입력:')\n",
    "if not insert_price.isdecimal():\n",
    "    print('정수 입력')\n",
    "    sys.exit() # 오류 발생시 강제 종료\n",
    "\n",
    "product_price = input('물건 금액:')\n",
    "if not product_price.isdecimal():\n",
    "    print('정수 입력')\n",
    "    sys.exit()\n",
    "\n",
    "change = int(insert_price) - int(product_price)\n",
    "\n",
    "if change < 0 :\n",
    "    print('금액이 부족합니다.')\n",
    "    sys.exit()\n",
    "\n",
    "money_list = [10000,5000,1000,500,100,50,10,1]\n",
    "\n",
    "for i in money_list:\n",
    "    result = change//i\n",
    "    change = change % i\n",
    "    print(f'{i}: {result}')"
   ]
  },
  {
   "cell_type": "markdown",
   "metadata": {},
   "source": [
    "> divmod(a,b) : 몫과 나머지를 한번에 반환.\n",
    "- 실행결과 : (a//b, a%b)"
   ]
  },
  {
   "cell_type": "markdown",
   "metadata": {},
   "source": [
    "#### 기수 변환"
   ]
  },
  {
   "cell_type": "code",
   "execution_count": 24,
   "metadata": {},
   "outputs": [
    {
     "name": "stdout",
     "output_type": "stream",
     "text": [
      "10010"
     ]
    }
   ],
   "source": [
    "n = int(input())\n",
    "list_1 = []\n",
    "while n > 0:\n",
    "    list_1.append(n%2)\n",
    "    n = n // 2\n",
    "\n",
    "result = list_1[::-1]\n",
    "for i in result:\n",
    "    print(i,end='')"
   ]
  },
  {
   "cell_type": "code",
   "execution_count": 30,
   "metadata": {},
   "outputs": [
    {
     "name": "stdout",
     "output_type": "stream",
     "text": [
      "10010\n"
     ]
    }
   ],
   "source": [
    "# 10진수를 2진수로 변환해서 나타내는 법.\n",
    "n = int(input())\n",
    "result = ''\n",
    "while n > 0:\n",
    "    result = str(n%2)+result  # 문자열 왼쪽에 나머지를 붙여서 추가해나가는 방법\n",
    "    n //= 2 # 2로 나눈 몫은 다시 대입\n",
    "print(result)"
   ]
  },
  {
   "cell_type": "code",
   "execution_count": 35,
   "metadata": {},
   "outputs": [
    {
     "name": "stdout",
     "output_type": "stream",
     "text": [
      "10010\n",
      "200\n",
      "22\n"
     ]
    }
   ],
   "source": [
    "# 함수로 제작.\n",
    "n = 18\n",
    "\n",
    "def convert(n,base):\n",
    "    result = ''\n",
    "    while n >0:\n",
    "        result = str(n%base) + result\n",
    "        n//=base\n",
    "    return result\n",
    "\n",
    "print(convert(n,2))\n",
    "print(convert(n,3))\n",
    "print(convert(n,8))"
   ]
  },
  {
   "cell_type": "markdown",
   "metadata": {},
   "source": [
    "> 반대로 2진수를 10진수로 나타내는 법"
   ]
  },
  {
   "cell_type": "code",
   "execution_count": 40,
   "metadata": {},
   "outputs": [
    {
     "name": "stdout",
     "output_type": "stream",
     "text": [
      "4\n"
     ]
    }
   ],
   "source": [
    "# n_2 = int(input()) \n",
    "\n",
    "n_2 = '100'\n",
    "result = 0\n",
    "for i in range(len(n_2)):\n",
    "    result += int(n_2[i]) * 2**(len(n_2)-i-1)\n",
    "\n",
    "print(result)\n",
    "\n",
    "\n",
    "\n",
    "\n",
    "# 책 예시랑 똑같이 나옴!!!\n"
   ]
  },
  {
   "cell_type": "markdown",
   "metadata": {},
   "source": [
    "> 파이썬 내장 함수로도 10진수를 2진수로 / 2진수를 10진수로 변환하는 함수가 준비되어 있다."
   ]
  },
  {
   "cell_type": "code",
   "execution_count": 41,
   "metadata": {},
   "outputs": [
    {
     "name": "stdout",
     "output_type": "stream",
     "text": [
      "0b10010\n",
      "<class 'int'>\n"
     ]
    }
   ],
   "source": [
    "a = 18\n",
    "print(bin(a))\n",
    "print(type(a))"
   ]
  },
  {
   "cell_type": "code",
   "execution_count": 43,
   "metadata": {},
   "outputs": [
    {
     "name": "stdout",
     "output_type": "stream",
     "text": [
      "18\n",
      "<class 'str'>\n"
     ]
    }
   ],
   "source": [
    "b = '10010'\n",
    "print(int(b,2))\n",
    "print(type(b))"
   ]
  },
  {
   "cell_type": "code",
   "execution_count": 45,
   "metadata": {},
   "outputs": [
    {
     "name": "stdout",
     "output_type": "stream",
     "text": [
      "18\n",
      "<class 'int'>\n"
     ]
    }
   ],
   "source": [
    "b = 0b10010  # 2진수 맨 앞에 0b를 붙이면 10진수의 정숫값으로 처리 가능하다.\n",
    "print(b)\n",
    "print(type(b))"
   ]
  },
  {
   "cell_type": "markdown",
   "metadata": {},
   "source": [
    "> 소수 판단 알고리즘\n",
    "- 원하는 숫자의 제곱근 까지만 나누어보았을때 그 숫자가 나누어 떨어지는것이 없다면 그 수는 소수 이다.\n",
    "2. 제곱근까지만 확인하면 충분한 이유\n",
    "만약 N이 소수가 아니라면, 그 약수는 반드시 두 수 중 하나가 √N 이하인 쌍으로 나타납니다. 즉, √N보다 큰 수로 나누어 떨어지려면 이미 √N보다 작은 약수가 존재해야 합니다. 따라서, √N보다 작은 수들로 나누어 보았을 때 나누어 떨어지지 않으면, 더 큰 수들로는 나누어 떨어질 수 없기 때문에 N은 소수라고 판정할 수 있습니다."
   ]
  },
  {
   "cell_type": "code",
   "execution_count": 49,
   "metadata": {},
   "outputs": [],
   "source": [
    "import math\n",
    "\n",
    "def is_prime(n):\n",
    "    if n <= 1:\n",
    "        return False\n",
    "    for i in range(2,int(math.sqrt(n))+1): # 제곱근 까지만 확인 해봄\n",
    "        if n%i == 0:\n",
    "            return False  # 나누어 떨어지는 경우는 False를 반환\n",
    "    return True  # False를 반환하는 경우를 제외 하고는 모두 True를 반환. 즉 소수임.\n"
   ]
  },
  {
   "cell_type": "code",
   "execution_count": 48,
   "metadata": {},
   "outputs": [
    {
     "name": "stdout",
     "output_type": "stream",
     "text": [
      "2 3 5 7 11 13 17 19 23 29 31 37 41 43 47 53 59 61 67 71 73 79 83 89 97 101 103 107 109 113 127 131 137 139 149 151 157 163 167 173 179 181 191 193 197 199 "
     ]
    }
   ],
   "source": [
    "for i in range(200):\n",
    "    if is_prime(i):\n",
    "        print(i,end= ' ')  # is_prime 에서 True를 반환 할때에만 i 값을 프린트."
   ]
  },
  {
   "cell_type": "code",
   "execution_count": 61,
   "metadata": {},
   "outputs": [
    {
     "name": "stdout",
     "output_type": "stream",
     "text": [
      "\n",
      "\n",
      "0.03417 sec\n"
     ]
    }
   ],
   "source": [
    "# 소수를 탐색하는데 걸리는 시간까지 계산\n",
    "\n",
    "import time\n",
    "\n",
    "def is_prime_time(n):\n",
    "    for i in range(n):\n",
    "        if is_prime(n):\n",
    "            print(i, end = ' ')\n",
    "\n",
    "start = time.time()\n",
    "is_prime_time(100000)\n",
    "end = time.time()\n",
    "\n",
    "print('\\n')\n",
    "print(f'{end-start:.5f} sec')  # 끝난시간에서 시작시간을 빼기/ 소수 5째 자리까지만 표기."
   ]
  },
  {
   "cell_type": "markdown",
   "metadata": {},
   "source": []
  }
 ],
 "metadata": {
  "kernelspec": {
   "display_name": "Python 3",
   "language": "python",
   "name": "python3"
  },
  "language_info": {
   "codemirror_mode": {
    "name": "ipython",
    "version": 3
   },
   "file_extension": ".py",
   "mimetype": "text/x-python",
   "name": "python",
   "nbconvert_exporter": "python",
   "pygments_lexer": "ipython3",
   "version": "3.10.10"
  }
 },
 "nbformat": 4,
 "nbformat_minor": 2
}
