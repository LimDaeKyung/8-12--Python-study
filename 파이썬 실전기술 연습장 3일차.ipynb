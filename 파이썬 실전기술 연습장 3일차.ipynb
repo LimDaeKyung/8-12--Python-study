{
 "cells": [
  {
   "cell_type": "markdown",
   "metadata": {},
   "source": [
    "#### class1 2675번 문자열 반복"
   ]
  },
  {
   "cell_type": "code",
   "execution_count": 7,
   "metadata": {},
   "outputs": [
    {
     "name": "stdout",
     "output_type": "stream",
     "text": [
      "aaabbbccc\n",
      "/////hhhhhtttttppppp\n"
     ]
    }
   ],
   "source": [
    "n = int(input())\n",
    "\n",
    "for _ in range(n):\n",
    "    cnt, word = input().split()\n",
    "    for x in word:\n",
    "        print(x*int(cnt), end='')  # end='' 옆으로 붙임\n",
    "    print()  # 줄넘김"
   ]
  },
  {
   "cell_type": "markdown",
   "metadata": {},
   "source": [
    "#### class1 11720번 숫자의 합"
   ]
  },
  {
   "cell_type": "code",
   "execution_count": 11,
   "metadata": {},
   "outputs": [
    {
     "name": "stdout",
     "output_type": "stream",
     "text": [
      "3\n"
     ]
    }
   ],
   "source": [
    "n_1 = int(input())\n",
    "n_2 = input()\n",
    "\n",
    "print(sum(int(x) for x in n_2))"
   ]
  },
  {
   "cell_type": "markdown",
   "metadata": {},
   "source": [
    "#### class1 10818번 최대 최소 문제"
   ]
  },
  {
   "cell_type": "code",
   "execution_count": 20,
   "metadata": {},
   "outputs": [
    {
     "name": "stdout",
     "output_type": "stream",
     "text": [
      "7 35\n"
     ]
    }
   ],
   "source": [
    "n_1 = int(input())\n",
    "number1 = list(map(int,input().split()))\n",
    "print(min(number1),max(number1))\n"
   ]
  },
  {
   "cell_type": "markdown",
   "metadata": {},
   "source": [
    "#### class1 11654번 아스키코드 출력"
   ]
  },
  {
   "cell_type": "code",
   "execution_count": 22,
   "metadata": {},
   "outputs": [
    {
     "name": "stdout",
     "output_type": "stream",
     "text": [
      "48\n"
     ]
    }
   ],
   "source": [
    "n1 = input()\n",
    "print(ord(n1))"
   ]
  },
  {
   "cell_type": "markdown",
   "metadata": {},
   "source": [
    "#### class1 1152번 단어의 개수"
   ]
  },
  {
   "cell_type": "code",
   "execution_count": 23,
   "metadata": {},
   "outputs": [
    {
     "name": "stdout",
     "output_type": "stream",
     "text": [
      "6\n"
     ]
    }
   ],
   "source": [
    "word = input().split()\n",
    "print(len(word))\n"
   ]
  },
  {
   "cell_type": "markdown",
   "metadata": {},
   "source": [
    "#### class1 2577번 숫자의 개수"
   ]
  },
  {
   "cell_type": "code",
   "execution_count": 26,
   "metadata": {},
   "outputs": [
    {
     "name": "stdout",
     "output_type": "stream",
     "text": [
      "3\n",
      "1\n",
      "0\n",
      "2\n",
      "0\n",
      "0\n",
      "0\n",
      "2\n",
      "0\n",
      "0\n"
     ]
    }
   ],
   "source": [
    "A = int(input())\n",
    "B = int(input())\n",
    "C = int(input())\n",
    "\n",
    "result = list(str(A*B*C))\n",
    "for i in range(10):\n",
    "    print(result.count(str(i)))\n"
   ]
  },
  {
   "cell_type": "code",
   "execution_count": 31,
   "metadata": {},
   "outputs": [
    {
     "name": "stdout",
     "output_type": "stream",
     "text": [
      "0\n"
     ]
    }
   ],
   "source": [
    "a = 'apple'\n",
    "print(a.count(str('v')))"
   ]
  },
  {
   "cell_type": "markdown",
   "metadata": {},
   "source": [
    "#### class1 2475번 검증수"
   ]
  },
  {
   "cell_type": "code",
   "execution_count": 38,
   "metadata": {},
   "outputs": [
    {
     "name": "stdout",
     "output_type": "stream",
     "text": [
      "1\n"
     ]
    }
   ],
   "source": [
    "num_1 = input().split()\n",
    "y = 0\n",
    "for i in range(5):\n",
    "    x = int(num_1[i]) * int(num_1[i])\n",
    "    y = y + x\n",
    "print(y%10)"
   ]
  },
  {
   "cell_type": "code",
   "execution_count": 39,
   "metadata": {},
   "outputs": [
    {
     "name": "stdout",
     "output_type": "stream",
     "text": [
      "1\n"
     ]
    }
   ],
   "source": [
    "num_1 = list(map(int,input().split()))\n",
    "y = 0\n",
    "for i in range(5):\n",
    "    x = num_1[i] * num_1[i]\n",
    "    y = y + x\n",
    "print(y%10)"
   ]
  },
  {
   "cell_type": "markdown",
   "metadata": {},
   "source": [
    "#### class1 10871번 X보다 작은수"
   ]
  },
  {
   "cell_type": "code",
   "execution_count": 43,
   "metadata": {},
   "outputs": [
    {
     "name": "stdout",
     "output_type": "stream",
     "text": [
      "1 4 2 3 "
     ]
    }
   ],
   "source": [
    "N, X = input().split()\n",
    "A = input().split()\n",
    "for i in range(len(A)):\n",
    "    if int(A[i]) < int(X):\n",
    "        print(int(A[i]),end=' ')\n",
    "    else:\n",
    "        continue\n",
    "\n"
   ]
  },
  {
   "cell_type": "markdown",
   "metadata": {},
   "source": [
    "#### class 1 31403번 A+B-C"
   ]
  },
  {
   "cell_type": "code",
   "execution_count": 47,
   "metadata": {},
   "outputs": [
    {
     "name": "stdout",
     "output_type": "stream",
     "text": [
      "2\n",
      "29\n"
     ]
    }
   ],
   "source": [
    "A = int(input())\n",
    "B = int(input())\n",
    "C = int(input())\n",
    "print(A+B-C)\n",
    "print(int(str(A)+str(B))-C)"
   ]
  },
  {
   "cell_type": "markdown",
   "metadata": {},
   "source": [
    "#### class1 10250번 ACM 호텔  "
   ]
  },
  {
   "cell_type": "code",
   "execution_count": 53,
   "metadata": {},
   "outputs": [
    {
     "name": "stdout",
     "output_type": "stream",
     "text": [
      "402\n",
      "1203\n"
     ]
    }
   ],
   "source": [
    "# 꼭대기 층일때가 관건.\n",
    "T = int(input())\n",
    "for _ in range(T):\n",
    "    H, W, N = map(int, input().split())\n",
    "    floor = N % H\n",
    "    if floor == 0:\n",
    "        floor = H\n",
    "        room_number = N // H\n",
    "    else:\n",
    "        room_number = N // H + 1\n",
    "    print(floor * 100 + room_number)"
   ]
  },
  {
   "cell_type": "markdown",
   "metadata": {},
   "source": [
    "#### class1 2920번 음계"
   ]
  },
  {
   "cell_type": "code",
   "execution_count": 56,
   "metadata": {},
   "outputs": [
    {
     "name": "stdout",
     "output_type": "stream",
     "text": [
      "mixed\n"
     ]
    }
   ],
   "source": [
    "music = input().split()\n",
    "ascending = ['1', '2', '3', '4', '5', '6', '7', '8' ]\n",
    "descending = ['8', '7', '6', '5', '4', '3', '2', '1' ]\n",
    "if music == ascending:\n",
    "    print('ascending')\n",
    "elif music == descending:\n",
    "    print('descending')\n",
    "else:\n",
    "    print('mixed')\n"
   ]
  },
  {
   "cell_type": "markdown",
   "metadata": {},
   "source": [
    "#### class1 3052번 나머지"
   ]
  },
  {
   "cell_type": "code",
   "execution_count": 72,
   "metadata": {},
   "outputs": [
    {
     "name": "stdout",
     "output_type": "stream",
     "text": [
      "9\n",
      "[1, 0, 3, 16, 23, 27, 40, 36, 34]\n"
     ]
    }
   ],
   "source": [
    "# not in 조건문 이용\n",
    "num = []\n",
    "for _ in range(10):\n",
    "    n = int(input())%42\n",
    "    if n not in num:\n",
    "        num.append(n)\n",
    "\n",
    "print(len(num))\n",
    "print(num)\n",
    "\n",
    "\n",
    "\n"
   ]
  },
  {
   "cell_type": "markdown",
   "metadata": {},
   "source": [
    "#### class1 8958번 OX문제"
   ]
  },
  {
   "cell_type": "code",
   "execution_count": 75,
   "metadata": {},
   "outputs": [
    {
     "name": "stdout",
     "output_type": "stream",
     "text": [
      "10\n"
     ]
    }
   ],
   "source": [
    "T = int(input())\n",
    "for _ in range(T):\n",
    "    ox_list = list(input())\n",
    "    score = 0\n",
    "    sum_score = 0\n",
    "    for ox in ox_list:\n",
    "        if ox == 'O':\n",
    "            score += 1\n",
    "            sum_score += score\n",
    "        else:\n",
    "            score = 0\n",
    "    print(sum_score)\n",
    "        \n",
    "    "
   ]
  },
  {
   "cell_type": "code",
   "execution_count": null,
   "metadata": {},
   "outputs": [],
   "source": [
    "T = int(input())\n",
    "for _ in range(T):\n",
    "    score = 0\n",
    "    sum_score = 0\n",
    "    ox_list = list(input())\n",
    "    for ox in ox_list:\n",
    "        if ox == 'O':\n",
    "            score += 1\n",
    "            sum_score += score\n",
    "        else:\n",
    "            score = 0\n",
    "    print(sum_score)  "
   ]
  },
  {
   "cell_type": "code",
   "execution_count": 85,
   "metadata": {},
   "outputs": [
    {
     "name": "stdout",
     "output_type": "stream",
     "text": [
      "10\n"
     ]
    }
   ],
   "source": [
    "T = int(input())\n",
    "score = 0\n",
    "sum_score = 0\n",
    "for _ in range(T):\n",
    "    ox_list = list(input())\n",
    "    for ox in ox_list:\n",
    "        if ox == 'O':\n",
    "            score += 1\n",
    "            sum_score += score\n",
    "        else:\n",
    "            score = 0\n",
    "    print(sum_score)    "
   ]
  },
  {
   "cell_type": "markdown",
   "metadata": {},
   "source": [
    "#### class 1 10809번 알파벳 찾기문제"
   ]
  },
  {
   "cell_type": "code",
   "execution_count": 81,
   "metadata": {},
   "outputs": [
    {
     "name": "stdout",
     "output_type": "stream",
     "text": [
      "1 0 -1 -1 2 -1 -1 -1 -1 4 3 -1 -1 7 5 -1 -1 -1 -1 -1 -1 -1 -1 -1 -1 -1 ['b', 'a', 'e', 'k', 'j', 'o', 'o', 'n']\n"
     ]
    }
   ],
   "source": [
    "T = list(input())\n",
    "abc = 'abcdefghijklmnopqrstuvwxyz'\n",
    "for i in abc:\n",
    "    if i in T:\n",
    "        print(T.index(i), end=' ')\n",
    "    else:\n",
    "        print(-1, end = ' ')    \n",
    "\n",
    "\n",
    "\n",
    "\n",
    "\n"
   ]
  },
  {
   "cell_type": "code",
   "execution_count": 82,
   "metadata": {},
   "outputs": [
    {
     "data": {
      "text/plain": [
       "0"
      ]
     },
     "execution_count": 82,
     "metadata": {},
     "output_type": "execute_result"
    }
   ],
   "source": [
    "asv = ['z','c','v']\n",
    "asv.index('z')"
   ]
  },
  {
   "cell_type": "code",
   "execution_count": 84,
   "metadata": {},
   "outputs": [
    {
     "name": "stdout",
     "output_type": "stream",
     "text": [
      "1 0 -1 -1 2 -1 -1 -1 -1 4 3 -1 -1 7 5 -1 -1 -1 -1 -1 -1 -1 -1 -1 -1 -1 "
     ]
    }
   ],
   "source": [
    "T = list(input())\n",
    "abc = 'abcdefghijklmnopqrstuvwxyz'\n",
    "for i in abc:\n",
    "    if i in T:\n",
    "        print(T.index(i), end = ' ')\n",
    "    else:\n",
    "        print(-1, end= ' ')    \n",
    "\n"
   ]
  }
 ],
 "metadata": {
  "kernelspec": {
   "display_name": "Python 3",
   "language": "python",
   "name": "python3"
  },
  "language_info": {
   "codemirror_mode": {
    "name": "ipython",
    "version": 3
   },
   "file_extension": ".py",
   "mimetype": "text/x-python",
   "name": "python",
   "nbconvert_exporter": "python",
   "pygments_lexer": "ipython3",
   "version": "3.10.10"
  }
 },
 "nbformat": 4,
 "nbformat_minor": 2
}
