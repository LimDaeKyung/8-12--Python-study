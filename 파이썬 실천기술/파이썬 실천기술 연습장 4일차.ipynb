{
 "cells": [
  {
   "cell_type": "markdown",
   "metadata": {},
   "source": [
    "#### class2 4153번 직각삼각형 문제"
   ]
  },
  {
   "cell_type": "code",
   "execution_count": 3,
   "metadata": {},
   "outputs": [
    {
     "name": "stdout",
     "output_type": "stream",
     "text": [
      "right\n",
      "wrong\n",
      "right\n"
     ]
    }
   ],
   "source": [
    "while True:\n",
    "    a,b,c = map(int,input().split())\n",
    "    if a == 0 and b == 0 and c == 0:\n",
    "        break\n",
    "    sides = sorted([a, b, c])\n",
    "    if sides[0]**2 +sides[1]**2 ==sides[2]**2:\n",
    "        print('right')\n",
    "    else:\n",
    "        print('wrong')"
   ]
  },
  {
   "cell_type": "markdown",
   "metadata": {},
   "source": [
    "#### class2 30802번 웰컴키트"
   ]
  },
  {
   "cell_type": "code",
   "execution_count": 8,
   "metadata": {},
   "outputs": [
    {
     "name": "stdout",
     "output_type": "stream",
     "text": [
      "7\n",
      "3 2\n"
     ]
    }
   ],
   "source": [
    "member = int(input())\n",
    "sizes = list(map(int,input().split()))\n",
    "t_shirt = 0\n",
    "sets_1,sets_2 = map(int,input().split())\n",
    "pen_1 = member // sets_2\n",
    "pen_2 = member % sets_2\n",
    "for i in sizes:\n",
    "    x = i//sets_1 +1\n",
    "    if i % sets_1 == 0:\n",
    "        x = i//sets_1\n",
    "    t_shirt += x\n",
    "print(t_shirt)\n",
    "print(pen_1,pen_2)\n",
    "\n"
   ]
  },
  {
   "cell_type": "markdown",
   "metadata": {},
   "source": [
    "#### 새싹 문제 10807번 개수세기"
   ]
  },
  {
   "cell_type": "code",
   "execution_count": 11,
   "metadata": {},
   "outputs": [
    {
     "name": "stdout",
     "output_type": "stream",
     "text": [
      "0\n"
     ]
    }
   ],
   "source": [
    "num_1 = int(input())\n",
    "num_2 = list(map(int,input().split()))\n",
    "num_3 = int(input())\n",
    "count_1 = 0\n",
    "for i in num_2:\n",
    "    if i == num_3:\n",
    "        count_1 += 1\n",
    "print(count_1)\n"
   ]
  },
  {
   "cell_type": "markdown",
   "metadata": {},
   "source": [
    "#### 새싹 문제 5597번 과제 안내신분?"
   ]
  },
  {
   "cell_type": "code",
   "execution_count": 27,
   "metadata": {},
   "outputs": [
    {
     "name": "stdout",
     "output_type": "stream",
     "text": [
      "[1, 2, 3, 4, 5, 6, 7, 8, 9, 10, 11, 12, 13, 14, 15, 16, 17, 18, 19, 20, 21, 22, 23, 24, 25, 26, 27, 28, 29, 30]\n"
     ]
    }
   ],
   "source": [
    "student = [i for i in range(1,31)]\n",
    "print(student)\n",
    "for _ in range(28):\n",
    "    x = int(input())\n",
    "    student.remove(x)\n",
    "\n",
    "print(min(student))\n",
    "print(max(student))    "
   ]
  },
  {
   "cell_type": "markdown",
   "metadata": {},
   "source": [
    "#### class2 1978번 소수찾기"
   ]
  },
  {
   "cell_type": "code",
   "execution_count": 24,
   "metadata": {},
   "outputs": [
    {
     "name": "stdout",
     "output_type": "stream",
     "text": [
      "0\n"
     ]
    }
   ],
   "source": [
    "T = int(input())\n",
    "X = list(map(int,input().split()))\n",
    "list_1 =[]\n",
    "if i in X:\n",
    "    if i % 2 != 0 and i%3 !=0 :\n",
    "        list_1.append(i)\n",
    "print(len(list_1))        \n",
    "\n",
    "\n"
   ]
  },
  {
   "cell_type": "markdown",
   "metadata": {},
   "source": [
    "#### 새싹문제 2743번 단어길이재기"
   ]
  },
  {
   "cell_type": "code",
   "execution_count": 28,
   "metadata": {},
   "outputs": [
    {
     "name": "stdout",
     "output_type": "stream",
     "text": [
      "3\n"
     ]
    }
   ],
   "source": [
    "T = input()\n",
    "print(len(T))"
   ]
  },
  {
   "cell_type": "markdown",
   "metadata": {},
   "source": [
    "#### 새싹문제 2744번 대소문자 바꾸기"
   ]
  },
  {
   "cell_type": "code",
   "execution_count": 29,
   "metadata": {},
   "outputs": [
    {
     "name": "stdout",
     "output_type": "stream",
     "text": [
      "aBcDe\n"
     ]
    }
   ],
   "source": [
    "T = input()\n",
    "print(T.swapcase())"
   ]
  },
  {
   "cell_type": "markdown",
   "metadata": {},
   "source": [
    "#### class2 1546 평균문제"
   ]
  },
  {
   "cell_type": "code",
   "execution_count": 32,
   "metadata": {},
   "outputs": [
    {
     "name": "stdout",
     "output_type": "stream",
     "text": [
      "75.0\n"
     ]
    }
   ],
   "source": [
    "num = int(input())\n",
    "score = list(map(int,input().split()))\n",
    "score_show = []\n",
    "for i in score:\n",
    "    x = i/max(score)*100\n",
    "    score_show.append(x)\n",
    "\n",
    "print(sum(score_show)/num)\n",
    "\n"
   ]
  },
  {
   "cell_type": "markdown",
   "metadata": {},
   "source": [
    "#### class2 2869번 달팽이 문제"
   ]
  },
  {
   "cell_type": "code",
   "execution_count": 36,
   "metadata": {},
   "outputs": [
    {
     "name": "stdout",
     "output_type": "stream",
     "text": [
      "1\n"
     ]
    }
   ],
   "source": [
    "A,B,V = map(int,input().split())\n",
    "\n",
    "day = A\n",
    "\n",
    "\n",
    "    "
   ]
  }
 ],
 "metadata": {
  "kernelspec": {
   "display_name": "Python 3",
   "language": "python",
   "name": "python3"
  },
  "language_info": {
   "codemirror_mode": {
    "name": "ipython",
    "version": 3
   },
   "file_extension": ".py",
   "mimetype": "text/x-python",
   "name": "python",
   "nbconvert_exporter": "python",
   "pygments_lexer": "ipython3",
   "version": "3.10.10"
  }
 },
 "nbformat": 4,
 "nbformat_minor": 2
}
