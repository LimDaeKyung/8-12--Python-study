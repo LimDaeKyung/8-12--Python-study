{
 "cells": [
  {
   "cell_type": "code",
   "execution_count": 5,
   "metadata": {},
   "outputs": [
    {
     "name": "stdout",
     "output_type": "stream",
     "text": [
      "11\n"
     ]
    }
   ],
   "source": [
    "def add(a,b):\n",
    "    return a+b\n",
    "print(add(8,3))"
   ]
  },
  {
   "cell_type": "code",
   "execution_count": 9,
   "metadata": {},
   "outputs": [
    {
     "name": "stdout",
     "output_type": "stream",
     "text": [
      "1번째 :item1\n",
      "2번째 :item2\n",
      "3번째 :item3\n"
     ]
    }
   ],
   "source": [
    "item = [1,2,3]\n",
    "for i in range(1,4):\n",
    "    print(f'{i}번째 :item{i}')"
   ]
  },
  {
   "cell_type": "code",
   "execution_count": 14,
   "metadata": {},
   "outputs": [
    {
     "name": "stdout",
     "output_type": "stream",
     "text": [
      "변수1의 값은 1\n",
      "변수2의 값은 2\n",
      "변수3의 값은 3\n",
      "[1, 2, 3]\n"
     ]
    }
   ],
   "source": [
    "item = [1,2,3]\n",
    "for i in item:\n",
    "    print(f'변수{i}의 값은 {i}')\n",
    "print(item)"
   ]
  },
  {
   "cell_type": "code",
   "execution_count": 17,
   "metadata": {},
   "outputs": [
    {
     "name": "stdout",
     "output_type": "stream",
     "text": [
      "0번째 단어는 w\n",
      "1번째 단어는 o\n",
      "2번째 단어는 r\n",
      "3번째 단어는 d\n"
     ]
    }
   ],
   "source": [
    "chars = 'word'\n",
    "for count, char in enumerate(chars):\n",
    "    print(f'{count}번째 단어는 {char}')\n"
   ]
  },
  {
   "cell_type": "code",
   "execution_count": 24,
   "metadata": {},
   "outputs": [],
   "source": [
    "nums = [2,4,7,8]\n",
    "for i in nums:\n",
    "    if i % 2 == 1:\n",
    "        break\n",
    "else:\n",
    "    print('홀수를 포함시키세요')"
   ]
  },
  {
   "cell_type": "code",
   "execution_count": 25,
   "metadata": {},
   "outputs": [
    {
     "name": "stdout",
     "output_type": "stream",
     "text": [
      "n = 0\n",
      "n = 1\n",
      "n = 2\n",
      "break\n"
     ]
    }
   ],
   "source": [
    "n = 0\n",
    "while n < 3:\n",
    "    print(f'n = {n}')\n",
    "    n += 1\n",
    "else:\n",
    "    print('break')"
   ]
  },
  {
   "cell_type": "markdown",
   "metadata": {},
   "source": [
    "### book 이라는 문자열을 포함 하는지 안하는지 확인"
   ]
  },
  {
   "cell_type": "code",
   "execution_count": 27,
   "metadata": {},
   "outputs": [
    {
     "name": "stdout",
     "output_type": "stream",
     "text": [
      "found\n",
      "found\n",
      "not found\n"
     ]
    }
   ],
   "source": [
    "def has_book(items):\n",
    "    for item in items:\n",
    "        if 'book' in item:\n",
    "            print('found')\n",
    "            break\n",
    "        else:\n",
    "            print('not found')\n",
    "\n",
    "has_book(['book1'])\n",
    "has_book(['book2','abc'])\n",
    "has_book(['234'])"
   ]
  },
  {
   "cell_type": "markdown",
   "metadata": {},
   "source": [
    "### while문으로 작성"
   ]
  },
  {
   "cell_type": "code",
   "execution_count": 31,
   "metadata": {},
   "outputs": [
    {
     "name": "stdout",
     "output_type": "stream",
     "text": [
      "found\n",
      "found\n",
      "not found\n"
     ]
    }
   ],
   "source": [
    "def has_book(items):\n",
    "    copied = items.copy()\n",
    "    while copied:\n",
    "        item = copied.pop()\n",
    "        if 'book' in item:\n",
    "            print('found')\n",
    "            break\n",
    "    else:\n",
    "        print('not found')\n",
    "\n",
    "has_book(['book1'])\n",
    "has_book(['book2','abc'])\n",
    "has_book(['234'])"
   ]
  },
  {
   "cell_type": "code",
   "execution_count": 33,
   "metadata": {},
   "outputs": [
    {
     "name": "stdout",
     "output_type": "stream",
     "text": [
      "found\n",
      "found\n",
      "not found\n"
     ]
    }
   ],
   "source": [
    "def has_book(items):\n",
    "    for item in items:\n",
    "        if 'book' in item:\n",
    "            print('found')\n",
    "            break\n",
    "        else:\n",
    "            print('not found')\n",
    "\n",
    "has_book(['book1'])\n",
    "has_book(['book2','abc'])\n",
    "has_book(['234'])            "
   ]
  },
  {
   "cell_type": "markdown",
   "metadata": {},
   "source": [
    "### book 포함 엘리먼트만 나열"
   ]
  },
  {
   "cell_type": "code",
   "execution_count": 35,
   "metadata": {},
   "outputs": [
    {
     "name": "stdout",
     "output_type": "stream",
     "text": [
      "book2\n",
      "book3\n"
     ]
    }
   ],
   "source": [
    "def list_book(items):\n",
    "    for item in items:\n",
    "        if 'book' not in item:\n",
    "            continue\n",
    "        else:\n",
    "            print(item)\n",
    "\n",
    "list_book(['book2','abc','book3'])\n"
   ]
  },
  {
   "cell_type": "markdown",
   "metadata": {},
   "source": [
    "### while 문으로 처리"
   ]
  },
  {
   "cell_type": "code",
   "execution_count": 39,
   "metadata": {},
   "outputs": [
    {
     "name": "stdout",
     "output_type": "stream",
     "text": [
      "book2\n",
      "book3\n"
     ]
    }
   ],
   "source": [
    "def list_book(items):\n",
    "    copied1 = items.copy()\n",
    "    while copied1:\n",
    "        item = copied1.pop(0)\n",
    "        if 'book' not in item:\n",
    "            continue\n",
    "        print(item)\n",
    "\n",
    "list_book(['book2','abc','book3'])\n"
   ]
  },
  {
   "cell_type": "markdown",
   "metadata": {},
   "source": [
    "### try문"
   ]
  },
  {
   "cell_type": "code",
   "execution_count": 6,
   "metadata": {},
   "outputs": [
    {
     "data": {
      "text/plain": [
       "'범위 밖입니다.'"
      ]
     },
     "execution_count": 6,
     "metadata": {},
     "output_type": "execute_result"
    }
   ],
   "source": [
    "def get_book(index):\n",
    "    items = ['note','notebook','sketchbook']\n",
    "    try:\n",
    "        return items[index]\n",
    "    except IndexError:\n",
    "        return '범위 밖입니다.'\n",
    "\n",
    "get_book(10)"
   ]
  },
  {
   "cell_type": "markdown",
   "metadata": {},
   "source": [
    "#### except 절"
   ]
  },
  {
   "cell_type": "code",
   "execution_count": 12,
   "metadata": {},
   "outputs": [
    {
     "name": "stdout",
     "output_type": "stream",
     "text": [
      "에러가 발생했습니다: list indices must be integers or slices, not str\n",
      "에러가 발생했습니다: list index out of range\n"
     ]
    },
    {
     "data": {
      "text/plain": [
       "'범위 밖입니다.'"
      ]
     },
     "execution_count": 12,
     "metadata": {},
     "output_type": "execute_result"
    }
   ],
   "source": [
    "def get_book(index):\n",
    "    items = ['note','notebook','sketchbook']\n",
    "    try:\n",
    "        return items[index]\n",
    "    except (IndexError, TypeError) as e:\n",
    "        print(f'에러가 발생했습니다: {e}')\n",
    "        return '범위 밖입니다.'\n",
    "\n",
    "get_book('3')\n",
    "get_book(3)"
   ]
  },
  {
   "cell_type": "markdown",
   "metadata": {},
   "source": [
    "#### else절"
   ]
  },
  {
   "cell_type": "code",
   "execution_count": 14,
   "metadata": {},
   "outputs": [
    {
     "data": {
      "text/plain": [
       "'SKETCHBOOK'"
      ]
     },
     "execution_count": 14,
     "metadata": {},
     "output_type": "execute_result"
    }
   ],
   "source": [
    "def get_book_upper(index):\n",
    "    items = ['note','notebook','sketchbook']\n",
    "    try:\n",
    "        book = str(items[index])\n",
    "    except (IndexError,TypeError) as e:\n",
    "        print(f'예외가 발생:{e}')\n",
    "    else:\n",
    "        return book.upper()\n",
    "\n",
    "get_book_upper(2)\n"
   ]
  },
  {
   "cell_type": "code",
   "execution_count": 15,
   "metadata": {},
   "outputs": [
    {
     "data": {
      "text/plain": [
       "'SKETCHBOOK'"
      ]
     },
     "execution_count": 15,
     "metadata": {},
     "output_type": "execute_result"
    }
   ],
   "source": [
    "def get_book_upper(index):\n",
    "    items = ['note','notebook','sketchbook']\n",
    "    try:\n",
    "        book = str(items[index])\n",
    "        return book.upper()\n",
    "    except (IndexError,TypeError) as e:\n",
    "        print(f'예외가 발생:{e}')\n",
    "\n",
    "get_book_upper(2)\n"
   ]
  },
  {
   "cell_type": "code",
   "execution_count": 17,
   "metadata": {},
   "outputs": [
    {
     "name": "stdout",
     "output_type": "stream",
     "text": [
      "book\n"
     ]
    },
    {
     "data": {
      "text/plain": [
       "'None'"
      ]
     },
     "execution_count": 17,
     "metadata": {},
     "output_type": "execute_result"
    }
   ],
   "source": [
    "str(print('book'))"
   ]
  },
  {
   "cell_type": "code",
   "execution_count": 18,
   "metadata": {},
   "outputs": [
    {
     "data": {
      "text/plain": [
       "True"
      ]
     },
     "execution_count": 18,
     "metadata": {},
     "output_type": "execute_result"
    }
   ],
   "source": [
    "bool('book')"
   ]
  }
 ],
 "metadata": {
  "kernelspec": {
   "display_name": "Python 3",
   "language": "python",
   "name": "python3"
  },
  "language_info": {
   "codemirror_mode": {
    "name": "ipython",
    "version": 3
   },
   "file_extension": ".py",
   "mimetype": "text/x-python",
   "name": "python",
   "nbconvert_exporter": "python",
   "pygments_lexer": "ipython3",
   "version": "3.10.10"
  }
 },
 "nbformat": 4,
 "nbformat_minor": 2
}
