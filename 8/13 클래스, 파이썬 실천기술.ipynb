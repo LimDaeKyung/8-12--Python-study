{
 "cells": [
  {
   "cell_type": "markdown",
   "metadata": {},
   "source": [
    "## class 속성 추가하기"
   ]
  },
  {
   "cell_type": "code",
   "execution_count": 20,
   "metadata": {},
   "outputs": [],
   "source": [
    "class Monster:\n",
    "    def __init__(self,name,age):\n",
    "        self.name = name\n",
    "        self.age = age\n",
    "        \n",
    "    def say(self):\n",
    "        print(f\"나는 {self.age} {self.name}\")\n",
    "shark = Monster('상어','7살')\n",
    "wolf = Monster('늑대','5살')"
   ]
  },
  {
   "cell_type": "code",
   "execution_count": 21,
   "metadata": {},
   "outputs": [
    {
     "name": "stdout",
     "output_type": "stream",
     "text": [
      "나는 7살 상어\n",
      "나는 5살 늑대\n"
     ]
    }
   ],
   "source": [
    "shark.say()\n",
    "wolf.say()"
   ]
  },
  {
   "cell_type": "markdown",
   "metadata": {},
   "source": [
    "## 클래스 사용 예시"
   ]
  },
  {
   "cell_type": "code",
   "execution_count": 22,
   "metadata": {},
   "outputs": [
    {
     "name": "stdout",
     "output_type": "stream",
     "text": [
      "Buddy\n",
      "3\n",
      "Buddy is 3 years old.\n",
      "Buddy says Woof!\n",
      "Canis familiaris\n"
     ]
    }
   ],
   "source": [
    "class Dog:\n",
    "    # 클래스 변수\n",
    "    species = \"Canis familiaris\"\n",
    "\n",
    "    # 생성자 메서드\n",
    "    def __init__(self, name, age):\n",
    "        self.name = name    # 인스턴스 변수\n",
    "        self.age = age      # 인스턴스 변수\n",
    "\n",
    "    # 인스턴스 메서드\n",
    "    def description(self):\n",
    "        return f\"{self.name} is {self.age} years old.\"\n",
    "\n",
    "    # 인스턴스 메서드\n",
    "    def speak(self, sound):\n",
    "        return f\"{self.name} says {sound}\"\n",
    "\n",
    "# 클래스 인스턴스 생성\n",
    "my_dog = Dog(\"Buddy\", 3)\n",
    "\n",
    "# 인스턴스 변수 및 메서드 접근\n",
    "print(my_dog.name)  # Buddy\n",
    "print(my_dog.age)   # 3\n",
    "print(my_dog.description())  # Buddy is 3 years old.\n",
    "print(my_dog.speak(\"Woof!\")) # Buddy says Woof!\n",
    "\n",
    "# 클래스 변수 접근\n",
    "print(Dog.species)  # Canis familiaris\n"
   ]
  },
  {
   "cell_type": "markdown",
   "metadata": {},
   "source": [
    "### 내 강아지 소개 클래스 이용"
   ]
  },
  {
   "cell_type": "code",
   "execution_count": 24,
   "metadata": {},
   "outputs": [
    {
     "name": "stdout",
     "output_type": "stream",
     "text": [
      "hush\n",
      "2\n",
      "boy\n",
      "hush is so cute\n",
      "hush says wang!!\n",
      "dachshund\n"
     ]
    }
   ],
   "source": [
    "class Dog_1:\n",
    "    #클래스 변수\n",
    "    species = \"dachshund\"\n",
    "\n",
    "    def __init__(self,name,age,sex):\n",
    "        self.name = name\n",
    "        self.age = age\n",
    "        self.sex = sex\n",
    "    \n",
    "    def description_1(self):\n",
    "        return(f\"{self.name} is so cute\")\n",
    "    \n",
    "    def sound(self,sound):\n",
    "        return(f\"{self.name} says {sound}\")\n",
    "    \n",
    "my_dog1 = Dog_1(\"hush\",2,'boy')\n",
    "\n",
    "print(my_dog1.name)\n",
    "print(my_dog1.age)\n",
    "print(my_dog1.sex)\n",
    "print(my_dog1.description_1())\n",
    "print(my_dog1.sound('wang!!'))\n",
    "\n",
    "print(Dog_1.species)\n",
    "\n",
    "\n",
    "\n",
    "    \n",
    "    "
   ]
  },
  {
   "cell_type": "markdown",
   "metadata": {},
   "source": [
    "## 프로퍼티 - 인스턴스 메서드를 인스턴스 변수와 같이 다룬다.\n",
    "#### 다른 인스턴스 변수로부터 얻을 수 있는 값을 사용하거나 인스턴스 변수에 대입된 값을 확인하고 싶을 때 사용"
   ]
  },
  {
   "cell_type": "code",
   "execution_count": 36,
   "metadata": {},
   "outputs": [],
   "source": [
    "class Book:\n",
    "    def __init__(self, raw_price):\n",
    "        if raw_price < 0:\n",
    "            raise ValueError('price must be positive')\n",
    "        self.raw_price = raw_price\n",
    "        self.discounts = 0\n",
    "    @property\n",
    "    def discounts(self):\n",
    "        return self._discounts\n",
    "    @discounts.setter\n",
    "    def discounts(self, value):\n",
    "        if value < 0 or 100 < value:\n",
    "            raise ValueError('discounts must be between 0 and 100')\n",
    "        self._discounts = value\n",
    "    @property\n",
    "    def price(self):\n",
    "        multi = 100 - self._discounts\n",
    "        return int(self.raw_price * multi / 100)\n",
    "\n",
    "\n",
    "        \n"
   ]
  },
  {
   "cell_type": "code",
   "execution_count": 37,
   "metadata": {},
   "outputs": [
    {
     "data": {
      "text/plain": [
       "2000"
      ]
     },
     "execution_count": 37,
     "metadata": {},
     "output_type": "execute_result"
    }
   ],
   "source": [
    "book = Book(2000)\n",
    "book.discounts\n",
    "book.price"
   ]
  },
  {
   "cell_type": "markdown",
   "metadata": {},
   "source": []
  },
  {
   "cell_type": "code",
   "execution_count": null,
   "metadata": {},
   "outputs": [],
   "source": []
  }
 ],
 "metadata": {
  "kernelspec": {
   "display_name": "Python 3",
   "language": "python",
   "name": "python3"
  },
  "language_info": {
   "codemirror_mode": {
    "name": "ipython",
    "version": 3
   },
   "file_extension": ".py",
   "mimetype": "text/x-python",
   "name": "python",
   "nbconvert_exporter": "python",
   "pygments_lexer": "ipython3",
   "version": "3.10.10"
  }
 },
 "nbformat": 4,
 "nbformat_minor": 2
}
