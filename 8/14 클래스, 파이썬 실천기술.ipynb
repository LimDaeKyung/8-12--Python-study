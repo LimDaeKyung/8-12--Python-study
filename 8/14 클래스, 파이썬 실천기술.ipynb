{
 "cells": [
  {
   "cell_type": "code",
   "execution_count": 13,
   "metadata": {},
   "outputs": [
    {
     "name": "stdout",
     "output_type": "stream",
     "text": [
      "result: 6\n"
     ]
    }
   ],
   "source": [
    "# 더하기, 빼기, 곱하기, 나누기 계산기 \n",
    "class FourCal:\n",
    "    def __init__(self,first,second):\n",
    "        self.first = first\n",
    "        self.second = second\n",
    "\n",
    "    def setdata(self, first, second):\n",
    "        self.first = first\n",
    "        self.second = second\n",
    "\n",
    "    def add(self):\n",
    "        result = self.first + self.second\n",
    "        return result\n",
    "    \n",
    "    def sub(self):\n",
    "        result = self.first - self.second\n",
    "        return result\n",
    "    \n",
    "    def mul(self):\n",
    "        result = self.first * self.second\n",
    "        return result\n",
    "    \n",
    "    def div(self):\n",
    "        if self.second != 0:\n",
    "            result = self.first / self.second\n",
    "            return result\n",
    "        else:\n",
    "            return \"cannot divide by zero\"\n",
    "        \n",
    "# 사용자로 부터 입력을 받기. 두가지 숫자와 사용할 계산 받기\n",
    "numbers = input(\"Enter two numbers separated by a space: \")\n",
    "operation = input(\"Enter operation (add, sub, mul, div): \")\n",
    "\n",
    "# first 와 second로 각각 나누기\n",
    "first, second = map(float,numbers.split())\n",
    "\n",
    "# 객체 생성 및 데이터 설정\n",
    "calc = FourCal(4,2)\n",
    "# calc.setdata(first,second)\n",
    "\n",
    "if operation == 'add':\n",
    "    print('result:',calc.add())\n",
    "elif operation == 'sub':\n",
    "    print('result:',calc.sub())\n",
    "elif operation == 'mul':\n",
    "    print('result:',calc.mul())\n",
    "elif operation == 'div':\n",
    "    print('result:',calc.div())\n",
    "else:\n",
    "    print('not allow operation')\n"
   ]
  },
  {
   "cell_type": "markdown",
   "metadata": {},
   "source": [
    "## GUI까지 포함한 계산기"
   ]
  },
  {
   "cell_type": "code",
   "execution_count": 6,
   "metadata": {},
   "outputs": [],
   "source": [
    "import tkinter as tk\n",
    "from tkinter import messagebox\n",
    "\n",
    "class FourCal:\n",
    "    def setdata(self, first, second):\n",
    "        self.first = first\n",
    "        self.second = second\n",
    "\n",
    "    def add(self):\n",
    "        return self.first + self.second\n",
    "    \n",
    "    def discount(self):\n",
    "        return self.first - self.second\n",
    "    \n",
    "    def mul(self):\n",
    "        return self.first * self.second\n",
    "    \n",
    "    def div(self):\n",
    "        if self.second != 0:\n",
    "            return self.first / self.second\n",
    "        else:\n",
    "            return \"Cannot divide by zero\"\n",
    "\n",
    "def calculate():\n",
    "    try:\n",
    "        first = float(entry1.get())\n",
    "        second = float(entry2.get())\n",
    "        operation = operation_var.get()\n",
    "        \n",
    "        calc = FourCal()\n",
    "        calc.setdata(first, second)\n",
    "        \n",
    "        if operation == \"Add\":\n",
    "            result = calc.add()\n",
    "        elif operation == \"Subtract\":\n",
    "            result = calc.discount()\n",
    "        elif operation == \"Multiply\":\n",
    "            result = calc.mul()\n",
    "        elif operation == \"Divide\":\n",
    "            result = calc.div()\n",
    "        \n",
    "        result_label.config(text=f\"Result: {result}\")\n",
    "    \n",
    "    except ValueError:\n",
    "        messagebox.showerror(\"Invalid input\", \"Please enter valid numbers.\")\n",
    "\n",
    "# GUI 설정\n",
    "root = tk.Tk()\n",
    "root.title(\"Simple Calculator\")\n",
    "\n",
    "# 입력 필드 및 라벨\n",
    "tk.Label(root, text=\"First Number:\").grid(row=0, column=0)\n",
    "entry1 = tk.Entry(root)\n",
    "entry1.grid(row=0, column=1)\n",
    "\n",
    "tk.Label(root, text=\"Second Number:\").grid(row=1, column=0)\n",
    "entry2 = tk.Entry(root)\n",
    "entry2.grid(row=1, column=1)\n",
    "\n",
    "# 연산 선택\n",
    "operation_var = tk.StringVar(value=\"Add\")\n",
    "tk.Label(root, text=\"Operation:\").grid(row=2, column=0)\n",
    "\n",
    "tk.Radiobutton(root, text=\"Add\", variable=operation_var, value=\"Add\").grid(row=2, column=1, sticky=\"w\")\n",
    "tk.Radiobutton(root, text=\"Subtract\", variable=operation_var, value=\"Subtract\").grid(row=3, column=1, sticky=\"w\")\n",
    "tk.Radiobutton(root, text=\"Multiply\", variable=operation_var, value=\"Multiply\").grid(row=4, column=1, sticky=\"w\")\n",
    "tk.Radiobutton(root, text=\"Divide\", variable=operation_var, value=\"Divide\").grid(row=5, column=1, sticky=\"w\")\n",
    "\n",
    "# 계산 버튼\n",
    "calculate_button = tk.Button(root, text=\"Calculate\", command=calculate)\n",
    "calculate_button.grid(row=6, column=0, columnspan=2)\n",
    "\n",
    "# 결과 출력 라벨\n",
    "result_label = tk.Label(root, text=\"Result: \")\n",
    "result_label.grid(row=7, column=0, columnspan=2)\n",
    "\n",
    "# GUI 실행\n",
    "root.mainloop()\n"
   ]
  },
  {
   "cell_type": "markdown",
   "metadata": {},
   "source": [
    "## Class 상속"
   ]
  },
  {
   "cell_type": "code",
   "execution_count": 16,
   "metadata": {},
   "outputs": [],
   "source": [
    "class FourCal:\n",
    "    def __init__(self,first,second):\n",
    "        self.first = first\n",
    "        self.second = second\n",
    "\n",
    "    def setdata(self, first, second):\n",
    "        self.first = first\n",
    "        self.second = second\n",
    "\n",
    "    def add(self):\n",
    "        result = self.first + self.second\n",
    "        return result\n",
    "    \n",
    "    def sub(self):\n",
    "        result = self.first - self.second\n",
    "        return result\n",
    "    \n",
    "    def mul(self):\n",
    "        result = self.first * self.second\n",
    "        return result\n",
    "    \n",
    "    def div(self):\n",
    "        result = self.first / self.second\n",
    "        return result\n",
    "        \n",
    "\n",
    "class MOreFourCal(FourCal):\n",
    "    def pow(self):\n",
    "        result = self.first ** self.second\n",
    "        return result\n",
    "    \n",
    "class SafeFourCal(FourCal):        # 메서드 오버라이딩 원래의 기능에 덮어 씌움\n",
    "    def div(self):\n",
    "        if self.second != 0:\n",
    "            result = self.first / self.second\n",
    "            return result\n",
    "        else:\n",
    "            return \"cannot divide by zero\""
   ]
  },
  {
   "cell_type": "code",
   "execution_count": 17,
   "metadata": {},
   "outputs": [
    {
     "name": "stdout",
     "output_type": "stream",
     "text": [
      "cannot divide by zero\n"
     ]
    },
    {
     "ename": "",
     "evalue": "",
     "output_type": "error",
     "traceback": [
      "\u001b[1;31m현재 셀 또는 이전 셀에서 코드를 실행하는 동안 Kernel이 충돌했습니다. \n",
      "\u001b[1;31m셀의 코드를 검토하여 가능한 오류 원인을 식별하세요. \n",
      "\u001b[1;31m자세한 내용을 보려면 <a href='https://aka.ms/vscodeJupyterKernelCrash'>여기</a>를 클릭하세요. \n",
      "\u001b[1;31m자세한 내용은 Jupyter <a href='command:jupyter.viewOutput'>로그</a>를 참조하세요."
     ]
    }
   ],
   "source": [
    "a = SafeFourCal(4,0)\n",
    "print(a.div())"
   ]
  }
 ],
 "metadata": {
  "kernelspec": {
   "display_name": "Python 3",
   "language": "python",
   "name": "python3"
  },
  "language_info": {
   "codemirror_mode": {
    "name": "ipython",
    "version": 3
   },
   "file_extension": ".py",
   "mimetype": "text/x-python",
   "name": "python",
   "nbconvert_exporter": "python",
   "pygments_lexer": "ipython3",
   "version": "3.10.10"
  }
 },
 "nbformat": 4,
 "nbformat_minor": 2
}
