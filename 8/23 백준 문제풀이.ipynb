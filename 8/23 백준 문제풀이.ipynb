{
 "cells": [
  {
   "cell_type": "markdown",
   "metadata": {},
   "source": [
    "### 2292  벌집문제"
   ]
  },
  {
   "cell_type": "code",
   "execution_count": 4,
   "metadata": {},
   "outputs": [
    {
     "name": "stdout",
     "output_type": "stream",
     "text": [
      "5\n"
     ]
    }
   ],
   "source": [
    "num = int(input())\n",
    "numbox = 1\n",
    "cnt = 1\n",
    "while num > numbox:\n",
    "    numbox += cnt*6\n",
    "    cnt += 1\n",
    "print(cnt)\n"
   ]
  },
  {
   "cell_type": "markdown",
   "metadata": {},
   "source": [
    "## 2798 블랙잭"
   ]
  },
  {
   "cell_type": "code",
   "execution_count": 1,
   "metadata": {},
   "outputs": [
    {
     "name": "stdout",
     "output_type": "stream",
     "text": [
      "21\n"
     ]
    }
   ],
   "source": [
    "N, M = map(int,input().split())\n",
    "card = list(map(int,input().split()))\n",
    "result = 0\n",
    "for i in range(N):\n",
    "    for j in range(i+1,N):\n",
    "        for k in range(j+1,N):\n",
    "            if card[i]+card[j]+card[k] > M: # 크면 반복\n",
    "                continue\n",
    "            else:\n",
    "                result = max(result,card[i]+card[j]+card[k]) # 작으면 result에 저장 / 비교를 계속하여 큰것만 계속 저장\n",
    "print(result)\n",
    "\n",
    "            \n",
    "\n",
    "\n"
   ]
  },
  {
   "cell_type": "markdown",
   "metadata": {},
   "source": [
    "## 10810번 공 넣기"
   ]
  },
  {
   "cell_type": "code",
   "execution_count": 7,
   "metadata": {},
   "outputs": [
    {
     "name": "stdout",
     "output_type": "stream",
     "text": [
      "1 2 1 1 0 "
     ]
    }
   ],
   "source": [
    "N, M = map(int,input().split())\n",
    "list_1 = [0] * N   # 리스트를 내가 원하는 숫자 만큼 0으로 채워 넣기\n",
    "for z in range(M):\n",
    "    i,j,k = map(int,input().split())\n",
    "    for x in range(i-1,j):\n",
    "        list_1[x] = k\n",
    "for num in list_1:   # 리스트에 들어 있는 내용물들을 end= ' ' 띄워쓰기 하나로 하나씩 연결해서 출력하는 방법\n",
    "    print(num,end=' ')"
   ]
  },
  {
   "cell_type": "markdown",
   "metadata": {},
   "source": [
    "## 10813번 공 바꾸기"
   ]
  },
  {
   "cell_type": "code",
   "execution_count": 15,
   "metadata": {},
   "outputs": [
    {
     "name": "stdout",
     "output_type": "stream",
     "text": [
      "3 1 4 2 5 "
     ]
    }
   ],
   "source": [
    "N, M = map(int, input().split())\n",
    "list_2 = list(range(1,N+1)) # 리스트 함수는 숫자의 범위만큼 리스트로 생성한다.\n",
    "for i in range(M):\n",
    "    x,y = map(int,input().split())\n",
    "    list_2[x-1],list_2[y-1] = list_2[y-1],list_2[x-1] #리스트의 위치를 바꾸는 방법.\n",
    "for x in list_2:\n",
    "    print(x,end= ' ')\n",
    "\n",
    "\n",
    "\n"
   ]
  },
  {
   "cell_type": "code",
   "execution_count": 18,
   "metadata": {},
   "outputs": [
    {
     "name": "stdout",
     "output_type": "stream",
     "text": [
      "3 4 1 2 5 "
     ]
    }
   ],
   "source": [
    "N, M = map(int, input().split())\n",
    "list_2 = list(range(1,N+1)) # 리스트 함수는 숫자의 범위만큼 리스트로 생성한다.\n",
    "# list_2 = [i for i in range(1,N+1)] 이렇게도 작성 가능.\n",
    "for i in range(M):\n",
    "    x,y = map(int,input().split())\n",
    "    list_2[x-1:y] = list_2[x-1:y][::-1] #리스트의 위치를 역순으로 바꾸는 방법.\n",
    "for x in list_2:\n",
    "    print(x,end= ' ')\n"
   ]
  },
  {
   "cell_type": "markdown",
   "metadata": {},
   "source": [
    "## 9086번 문자열 출력 "
   ]
  },
  {
   "cell_type": "code",
   "execution_count": null,
   "metadata": {},
   "outputs": [],
   "source": []
  },
  {
   "cell_type": "markdown",
   "metadata": {},
   "source": []
  }
 ],
 "metadata": {
  "kernelspec": {
   "display_name": "Python 3",
   "language": "python",
   "name": "python3"
  },
  "language_info": {
   "codemirror_mode": {
    "name": "ipython",
    "version": 3
   },
   "file_extension": ".py",
   "mimetype": "text/x-python",
   "name": "python",
   "nbconvert_exporter": "python",
   "pygments_lexer": "ipython3",
   "version": "3.10.10"
  }
 },
 "nbformat": 4,
 "nbformat_minor": 2
}
