{
 "cells": [
  {
   "cell_type": "markdown",
   "metadata": {},
   "source": [
    "### 2292  벌집문제"
   ]
  },
  {
   "cell_type": "code",
   "execution_count": 4,
   "metadata": {},
   "outputs": [
    {
     "name": "stdout",
     "output_type": "stream",
     "text": [
      "5\n"
     ]
    }
   ],
   "source": [
    "num = int(input())\n",
    "numbox = 1\n",
    "cnt = 1\n",
    "while num > numbox:\n",
    "    numbox += cnt*6\n",
    "    cnt += 1\n",
    "print(cnt)\n"
   ]
  },
  {
   "cell_type": "markdown",
   "metadata": {},
   "source": [
    "## 2798 블랙잭"
   ]
  },
  {
   "cell_type": "code",
   "execution_count": 1,
   "metadata": {},
   "outputs": [
    {
     "name": "stdout",
     "output_type": "stream",
     "text": [
      "21\n"
     ]
    }
   ],
   "source": [
    "N, M = map(int,input().split())\n",
    "card = list(map(int,input().split()))\n",
    "result = 0\n",
    "for i in range(N):\n",
    "    for j in range(i+1,N):\n",
    "        for k in range(j+1,N):\n",
    "            if card[i]+card[j]+card[k] > M: # 크면 반복\n",
    "                continue\n",
    "            else:\n",
    "                result = max(result,card[i]+card[j]+card[k]) # 작으면 result에 저장 / 비교를 계속하여 큰것만 계속 저장\n",
    "print(result)\n",
    "\n",
    "            \n",
    "\n",
    "\n"
   ]
  },
  {
   "cell_type": "markdown",
   "metadata": {},
   "source": [
    "## 10810번 공 넣기"
   ]
  },
  {
   "cell_type": "code",
   "execution_count": 7,
   "metadata": {},
   "outputs": [
    {
     "name": "stdout",
     "output_type": "stream",
     "text": [
      "1 2 1 1 0 "
     ]
    }
   ],
   "source": [
    "N, M = map(int,input().split())\n",
    "list_1 = [0] * N   # 리스트를 내가 원하는 숫자 만큼 0으로 채워 넣기\n",
    "for z in range(M):\n",
    "    i,j,k = map(int,input().split())\n",
    "    for x in range(i-1,j):\n",
    "        list_1[x] = k\n",
    "for num in list_1:   # 리스트에 들어 있는 내용물들을 end= ' ' 띄워쓰기 하나로 하나씩 연결해서 출력하는 방법\n",
    "    print(num,end=' ')"
   ]
  },
  {
   "cell_type": "markdown",
   "metadata": {},
   "source": [
    "## 10813번 공 바꾸기"
   ]
  },
  {
   "cell_type": "code",
   "execution_count": 15,
   "metadata": {},
   "outputs": [
    {
     "name": "stdout",
     "output_type": "stream",
     "text": [
      "3 1 4 2 5 "
     ]
    }
   ],
   "source": [
    "N, M = map(int, input().split())\n",
    "list_2 = list(range(1,N+1)) # 리스트 함수는 숫자의 범위만큼 리스트로 생성한다.\n",
    "for i in range(M):\n",
    "    x,y = map(int,input().split())\n",
    "    list_2[x-1],list_2[y-1] = list_2[y-1],list_2[x-1] #리스트의 위치를 바꾸는 방법.\n",
    "for x in list_2:\n",
    "    print(x,end= ' ')\n",
    "\n",
    "\n",
    "\n"
   ]
  },
  {
   "cell_type": "code",
   "execution_count": 18,
   "metadata": {},
   "outputs": [
    {
     "name": "stdout",
     "output_type": "stream",
     "text": [
      "3 4 1 2 5 "
     ]
    }
   ],
   "source": [
    "N, M = map(int, input().split())\n",
    "list_2 = list(range(1,N+1)) # 리스트 함수는 숫자의 범위만큼 리스트로 생성한다.\n",
    "# list_2 = [i for i in range(1,N+1)] 이렇게도 작성 가능.\n",
    "for i in range(M):\n",
    "    x,y = map(int,input().split())\n",
    "    list_2[x-1:y] = list_2[x-1:y][::-1] #리스트의 위치를 역순으로 바꾸는 방법.\n",
    "for x in list_2:\n",
    "    print(x,end= ' ')\n"
   ]
  },
  {
   "cell_type": "markdown",
   "metadata": {},
   "source": [
    "## 9086번 문자열 출력 "
   ]
  },
  {
   "cell_type": "code",
   "execution_count": 19,
   "metadata": {},
   "outputs": [
    {
     "name": "stdout",
     "output_type": "stream",
     "text": [
      "AE\n",
      "OO\n",
      "AB\n"
     ]
    }
   ],
   "source": [
    "T = int(input())\n",
    "for i in range(T):\n",
    "    x = input()\n",
    "    print(x[0],end='')\n",
    "    print(x[-1])\n"
   ]
  },
  {
   "cell_type": "markdown",
   "metadata": {},
   "source": [
    "## 2908 상수"
   ]
  },
  {
   "cell_type": "code",
   "execution_count": 26,
   "metadata": {},
   "outputs": [
    {
     "name": "stdout",
     "output_type": "stream",
     "text": [
      "437\n"
     ]
    }
   ],
   "source": [
    "x,y = list(map(int,input().split()))\n",
    "reverse_x = int(str(x)[::-1])  # 문자열로 바꿔서 순서를 바꾼뒤 다시 숫자로 바꾸기~\n",
    "reverse_y = int(str(y)[::-1])\n",
    "\n",
    "print(max(reverse_x,reverse_y))"
   ]
  },
  {
   "cell_type": "code",
   "execution_count": 117,
   "metadata": {},
   "outputs": [
    {
     "name": "stdout",
     "output_type": "stream",
     "text": [
      "None\n"
     ]
    }
   ],
   "source": [
    "x_1 = ['123']\n",
    "x_2 = x_1.reverse()\n"
   ]
  },
  {
   "cell_type": "markdown",
   "metadata": {},
   "source": [
    "## 전화 걸기"
   ]
  },
  {
   "cell_type": "code",
   "execution_count": 4,
   "metadata": {},
   "outputs": [
    {
     "name": "stdout",
     "output_type": "stream",
     "text": [
      "36\n"
     ]
    }
   ],
   "source": [
    "numlist = ['ABC','DEF','GHI','JKL','MNO','PQRS','TUV','WXYZ']\n",
    "alpha = list(input())\n",
    "result =0\n",
    "time = 0\n",
    "for i in alpha:\n",
    "    for j in numlist:\n",
    "        if i in str(j):\n",
    "            time = numlist.index(j)+3\n",
    "            result += time\n",
    "print(result)\n"
   ]
  },
  {
   "cell_type": "code",
   "execution_count": 8,
   "metadata": {},
   "outputs": [
    {
     "name": "stdout",
     "output_type": "stream",
     "text": [
      "36\n"
     ]
    }
   ],
   "source": [
    "alpha_1 = input()\n",
    "numbox =0 \n",
    "for i in alpha_1:\n",
    "    if i in 'ABC':\n",
    "        numbox += 3\n",
    "    elif i in 'DEF':\n",
    "         numbox += 4\n",
    "    elif i in 'GHI' :\n",
    "         numbox += 5\n",
    "    elif i in 'JKL':\n",
    "         numbox += 6\n",
    "    elif i in 'MNO':\n",
    "         numbox += 7\n",
    "    elif i in 'PQRS':\n",
    "         numbox += 8\n",
    "    elif i in 'TUV':\n",
    "         numbox += 9\n",
    "    elif i in 'WXYZ':\n",
    "         numbox += 10\n",
    "print(numbox)"
   ]
  },
  {
   "cell_type": "markdown",
   "metadata": {},
   "source": [
    "## 11718 그대로 출력하기"
   ]
  },
  {
   "cell_type": "code",
   "execution_count": null,
   "metadata": {},
   "outputs": [],
   "source": [
    "while True:\n",
    "    try:\n",
    "        print(input())  # 오류가 없을시 수행\n",
    "    except EOFError:    # 오류가 발생시 행동할 내용\n",
    "        break"
   ]
  },
  {
   "cell_type": "markdown",
   "metadata": {},
   "source": [
    "## 2444 번 별찍기 -7"
   ]
  },
  {
   "cell_type": "code",
   "execution_count": 29,
   "metadata": {},
   "outputs": [
    {
     "name": "stdout",
     "output_type": "stream",
     "text": [
      "    *\n",
      "   ***\n",
      "  *****\n",
      " *******\n",
      "*********\n",
      " *******\n",
      "  *****\n",
      "   ***\n",
      "    *\n"
     ]
    }
   ],
   "source": [
    "n = int(input())\n",
    "# 상단 피라미드 부분\n",
    "for i in range(n):\n",
    "    print(' ' * (n - i - 1) + '*' * (2 * i + 1))\n",
    "\n",
    "# 하단 피라미드 부분\n",
    "for i in range(n - 2, -1, -1):\n",
    "    print(' ' * (n - i - 1) + '*' * (2 * i + 1))\n",
    "\n",
    "\n",
    "\n"
   ]
  },
  {
   "cell_type": "markdown",
   "metadata": {},
   "source": [
    "## 3003번 체크판 문제"
   ]
  },
  {
   "cell_type": "code",
   "execution_count": 38,
   "metadata": {},
   "outputs": [
    {
     "name": "stdout",
     "output_type": "stream",
     "text": [
      "1 0 0 0 0 1 "
     ]
    }
   ],
   "source": [
    "list_1 = [1,1,2,2,2,8]\n",
    "list_2 = list(map(int,input().split()))\n",
    "list_3 = []\n",
    "for i in range(6):\n",
    "    list_3.append(list_1[i]-list_2[i])\n",
    "for i in list_3:\n",
    "    print(i, end=' ')\n"
   ]
  },
  {
   "cell_type": "markdown",
   "metadata": {},
   "source": [
    "## 10988번 팰린드롬 확인하기"
   ]
  },
  {
   "cell_type": "code",
   "execution_count": 42,
   "metadata": {},
   "outputs": [
    {
     "name": "stdout",
     "output_type": "stream",
     "text": [
      "0\n"
     ]
    }
   ],
   "source": [
    "string = input()\n",
    "reverse_string = string[::-1]\n",
    "reverse_string\n",
    "\n",
    "if string == reverse_string:\n",
    "    print(1)\n",
    "else:\n",
    "    print(0)\n"
   ]
  },
  {
   "cell_type": "markdown",
   "metadata": {},
   "source": [
    "## 1157 단어공부\n"
   ]
  },
  {
   "cell_type": "code",
   "execution_count": 66,
   "metadata": {},
   "outputs": [
    {
     "name": "stdout",
     "output_type": "stream",
     "text": [
      "Z\n"
     ]
    }
   ],
   "source": [
    "word = input().upper()\n",
    "word_list = list(set(word))\n",
    "cnt = []\n",
    "for i in word_list:\n",
    "    word_count = word.count(i)\n",
    "    cnt.append(word_count)\n",
    "\n",
    "if cnt.count(max(cnt)) >=2:\n",
    "    print('?')\n",
    "else:\n",
    "    print(word_list[(cnt.index(max(cnt)))].upper())\n",
    "\n"
   ]
  },
  {
   "cell_type": "markdown",
   "metadata": {},
   "source": [
    "## 25206번 너의 학점은"
   ]
  },
  {
   "cell_type": "code",
   "execution_count": 72,
   "metadata": {},
   "outputs": [
    {
     "name": "stdout",
     "output_type": "stream",
     "text": [
      "3.0725806451612905\n"
     ]
    }
   ],
   "source": [
    "# score_C = {'A+':4.5,'A0':4.0,'B+':3.5,'B':3.0,'C+':2.5,'C':2.0,'D+':1.5,'D0':1.0,'F':0.0}\n",
    "score = 0\n",
    "sum_score = 0\n",
    "sum_study = 0\n",
    "\n",
    "for i in range(20):\n",
    "    A,B,C = input().split()\n",
    "    if 'A+' in C:\n",
    "        score = 4.5*float(B)\n",
    "        sum_score += score\n",
    "        sum_study += float(B)\n",
    "    elif 'A0' in C:\n",
    "        score = 4.0*float(B)\n",
    "        sum_score += score\n",
    "        sum_study += float(B)\n",
    "    elif 'B+' in C:\n",
    "        score = 3.5*float(B)\n",
    "        sum_score += score\n",
    "        sum_study += float(B)\n",
    "    elif 'B0' in C:\n",
    "        score = 3.0*float(B)\n",
    "        sum_score += score\n",
    "        sum_study += float(B)\n",
    "    elif 'C+' in C:\n",
    "        score = 2.5*float(B)\n",
    "        sum_score += score\n",
    "        sum_study += float(B)\n",
    "    elif 'C0' in C:\n",
    "        score = 2.0*float(B)\n",
    "        sum_score += score\n",
    "        sum_study += float(B)\n",
    "    elif 'D+' in C:\n",
    "        score = 1.5*float(B)\n",
    "        sum_score += score\n",
    "        sum_study += float(B)\n",
    "    elif 'D0' in C:\n",
    "        score = 1.0*float(B)\n",
    "        sum_score += score\n",
    "        sum_study += float(B)\n",
    "    elif 'F' in C:\n",
    "        score = 0.0*float(B)\n",
    "        sum_score += score\n",
    "        sum_study += float(B)\n",
    "\n",
    "print(sum_score/sum_study)\n",
    "\n",
    "        \n",
    "    \n",
    "\n",
    "\n",
    "\n"
   ]
  },
  {
   "cell_type": "markdown",
   "metadata": {},
   "source": [
    "#### 딕셔너리를 이용한 다른 풀이"
   ]
  },
  {
   "cell_type": "code",
   "execution_count": 70,
   "metadata": {},
   "outputs": [
    {
     "name": "stdout",
     "output_type": "stream",
     "text": [
      "True\n"
     ]
    }
   ],
   "source": [
    "rating = ['A+','A0','B+','B0','C+','C0','D+','D0','F']\n",
    "grade = [4.5,4.0,3.5,3.0,2.5,2.0,1.5,1.0,0]\n",
    "\n",
    "total_grade = 0\n",
    "total_study = 0\n",
    "for i in range(20):\n",
    "    s,g,r = input().split()\n",
    "    g = float(g)\n",
    "    if r != 'P':\n",
    "        total_grade += g*grade[rating.index(r)] # 인덱스로 역으로 찾기   .index(내용) > 이 내용의 인덱스가 몇번인지 알아내서 이를 전체 [] 로 감싸기. \n",
    "        total_study += g \n",
    "\n",
    "print(format(total_grade/total_study,\".6f\"))  # 소수 6번째 자리까지 표시\n",
    "\n"
   ]
  },
  {
   "cell_type": "markdown",
   "metadata": {},
   "source": [
    "### 2941번 크로아티아 알파벳"
   ]
  },
  {
   "cell_type": "code",
   "execution_count": 81,
   "metadata": {},
   "outputs": [
    {
     "name": "stdout",
     "output_type": "stream",
     "text": [
      "3\n"
     ]
    }
   ],
   "source": [
    "croa = ['c=','c-','dz=','d-','lj','nj','s=','z=']  # 틀린예시.\n",
    "count = 0\n",
    "word = input()\n",
    "for i in croa:\n",
    "    count = count+ word.count(i)\n",
    "nomal_word = len(word) - (2*count)   \n",
    "print(count+nomal_word)\n"
   ]
  },
  {
   "cell_type": "code",
   "execution_count": 82,
   "metadata": {},
   "outputs": [
    {
     "name": "stdout",
     "output_type": "stream",
     "text": [
      "1\n"
     ]
    }
   ],
   "source": [
    "a = input()\n",
    "croatia_a = ['c=', 'c-', 'dz=', 'd-', 'lj', 'nj', 's=', 'z=']\n",
    "\n",
    "for i in croatia_a:\n",
    "    a = a.replace(i, \"*\") #a 안에 있는 크로아티아 단어를 모두 *로 변환. 그리고 개수를 센다.\n",
    "\n",
    "print(len(a))"
   ]
  },
  {
   "cell_type": "markdown",
   "metadata": {},
   "source": [
    "### 1316번 그룹단어 체커"
   ]
  },
  {
   "cell_type": "code",
   "execution_count": null,
   "metadata": {},
   "outputs": [],
   "source": []
  },
  {
   "cell_type": "code",
   "execution_count": 107,
   "metadata": {},
   "outputs": [
    {
     "name": "stdout",
     "output_type": "stream",
     "text": [
      "2\n"
     ]
    }
   ],
   "source": [
    "# 연속된 알파벳 제거 함수 설정\n",
    "# 일단 제일 처음 알파벳을 리스트에 넣고, 이 리스트의 가장 마지막 알파벳과 입력받은 문자열을 두번째부터 대조를 해본후 같지 않으면 리스트에 넣는다. 따라서 연속으로 같은것이 나올 경우 리스트에 들어가지 않게 된다.\n",
    "# 그래서 set함수를 이용하여 set함수를 사용하게 되면 중복을 허락하지 않게 되므로, 이 리스트의 길이와 집합의 길이 비교를 통해 다시 나오는 단어가 있게 되는지를 판단하게 되는것이다. \n",
    "\n",
    "# a=set(['a','b'])\n",
    "# b=list(['a','b'])\n",
    "# print(len(a),a)\n",
    "# print(len(b),b)\n",
    "        \n",
    "# 함수 설명\n",
    "\n",
    "def remove_1(s):\n",
    "    # if not s:\n",
    "    #     return ''\n",
    "    \n",
    "    result = [s[0]]\n",
    "\n",
    "    for i in s[1:]:\n",
    "        if i != result[-1]:\n",
    "            result.append(i)\n",
    "    \n",
    "    return result\n",
    "\n",
    "\n",
    "N = int(input())\n",
    "cnt = 0\n",
    "for i in range(N):\n",
    "    x = input()\n",
    "    if len(remove_1(x)) == len(set(remove_1(x))):\n",
    "        cnt += 1\n",
    "\n",
    "print(cnt)\n",
    "\n",
    "\n",
    "\n",
    "            \n",
    "              \n",
    "\n",
    "\n",
    "\n"
   ]
  },
  {
   "cell_type": "markdown",
   "metadata": {},
   "source": [
    "### 2738 행렬 덧셈"
   ]
  },
  {
   "cell_type": "code",
   "execution_count": 122,
   "metadata": {},
   "outputs": [
    {
     "name": "stdout",
     "output_type": "stream",
     "text": [
      "[[1, 3], [1, 3]]\n"
     ]
    }
   ],
   "source": [
    "N,M = map(int,input().split())\n",
    "A = []\n",
    "B = []\n",
    "for i in range(N):\n",
    "    i = list(map(int,input().split()))\n",
    "    A.append(i)\n",
    "\n",
    "for i in range(N):\n",
    "    i = list(map(int,input().split()))\n",
    "    B.append(i)\n",
    "\n",
    "for i in range(N):\n",
    "    for j in range(M):\n",
    "        print(A[i][j]+B[i][j],end = ' ') # 각 칸에 들어 있는 것 끼리 더하기 계산.\n",
    "    print()  # 한줄 끝나면 줄 바꿈\n",
    "\n",
    "\n",
    "\n"
   ]
  },
  {
   "cell_type": "markdown",
   "metadata": {},
   "source": [
    "### 최대값 행렬 문제"
   ]
  },
  {
   "cell_type": "code",
   "execution_count": 128,
   "metadata": {},
   "outputs": [
    {
     "name": "stdout",
     "output_type": "stream",
     "text": [
      "90\n",
      "5 7\n"
     ]
    }
   ],
   "source": [
    "# 내 풀이\n",
    "A = []\n",
    "B = []\n",
    "cnt = 0\n",
    "for i in range(9):\n",
    "    i = list(map(int,input().split()))\n",
    "    A.append(i)\n",
    "\n",
    "for i in range(9):\n",
    "    for j in range(9):\n",
    "        B.append(A[i][j])\n",
    "\n",
    "max_B = max(B)\n",
    "max_index = B.index(max_B)\n",
    "\n",
    "row_position = max_index // 9 + 1\n",
    "col_position = max_index % 9 + 1\n",
    "\n",
    "# 출력\n",
    "print(max_B)\n",
    "print(row_position, col_position)\n"
   ]
  },
  {
   "cell_type": "code",
   "execution_count": 129,
   "metadata": {},
   "outputs": [],
   "source": [
    "# 다른 풀이\n",
    "# 인풋의 9x9 table을 읽어줍니다.\n",
    "table = []\n",
    "for _ in range(9):\n",
    "    row = list(map(int, input().split()))\n",
    "    table.append(row)\n",
    "\n",
    "# 가장 큰 넘버와 그것의 위치를 찾아줍니다.\n",
    "max_num = 0\n",
    "max_row, max_col = 0, 0\n",
    "\n",
    "for row in range(9):\n",
    "    for col in range(9):\n",
    "        if max_num <= table[row][col]:\n",
    "            max_row, max_col = row + 1, col + 1\n",
    "            max_num = table[row][col]\n",
    "\n",
    "# 가장 큰 넘버와 위치를 출력해줍니다.\n",
    "print(max_num)\n",
    "print(max_row, max_col)"
   ]
  },
  {
   "cell_type": "markdown",
   "metadata": {},
   "source": [
    "3 23 85 34 17 74 25 52 65\n",
    "10 7 39 42 88 52 14 72 63\n",
    "87 42 18 78 53 45 18 84 53\n",
    "34 28 64 85 12 16 75 36 55\n",
    "21 77 45 35 28 75 90 76 1\n",
    "25 87 65 15 28 11 37 28 74\n",
    "65 27 75 41 7 89 78 64 39\n",
    "47 47 70 45 23 65 3 41 44\n",
    "87 13 82 38 31 12 29 29 80"
   ]
  },
  {
   "cell_type": "code",
   "execution_count": 112,
   "metadata": {},
   "outputs": [],
   "source": [
    "def MenOfPassion(A, n):\n",
    "    i = n // 2  # 정수 나눗셈으로 중간 인덱스를 계산\n",
    "    return A[i]  # 코드1\n",
    "\n",
    "n = int(input())\n"
   ]
  },
  {
   "cell_type": "code",
   "execution_count": 2,
   "metadata": {},
   "outputs": [
    {
     "name": "stdout",
     "output_type": "stream",
     "text": [
      "[1, 2, 3, 5]\n"
     ]
    }
   ],
   "source": [
    "a = [1,2,3,4,4,4,5]\n",
    "while 4 in a:\n",
    "    a.remove(4)\n",
    "print(a)"
   ]
  }
 ],
 "metadata": {
  "kernelspec": {
   "display_name": "Python 3",
   "language": "python",
   "name": "python3"
  },
  "language_info": {
   "codemirror_mode": {
    "name": "ipython",
    "version": 3
   },
   "file_extension": ".py",
   "mimetype": "text/x-python",
   "name": "python",
   "nbconvert_exporter": "python",
   "pygments_lexer": "ipython3",
   "version": "3.10.10"
  }
 },
 "nbformat": 4,
 "nbformat_minor": 2
}
