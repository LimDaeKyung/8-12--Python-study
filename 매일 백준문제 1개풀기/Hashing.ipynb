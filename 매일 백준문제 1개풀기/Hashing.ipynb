{
 "cells": [
  {
   "cell_type": "code",
   "execution_count": 23,
   "metadata": {},
   "outputs": [
    {
     "name": "stdout",
     "output_type": "stream",
     "text": [
      "['z', 'z', 'z']\n",
      "25818\n"
     ]
    }
   ],
   "source": [
    "list_1 = list(map(str,'abcdefghijklmnopqrstuvwxyz'))\n",
    "list_2 = [i for i in range(1,27)]\n",
    "dict_ = {}\n",
    "\n",
    "for i in list_1:\n",
    "    dict_[i] = list_2[list_1.index(i)]\n",
    "\n",
    "result = 0\n",
    "L = int(input())\n",
    "M = list(map(str,input()))\n",
    "print(M)\n",
    "for idx, char in enumerate(M):\n",
    "    result += dict_.get(char) * (31**idx)\n",
    "\n",
    "print(result%1234567891)"
   ]
  },
  {
   "cell_type": "markdown",
   "metadata": {},
   "source": [
    "> 더 나은 풀이"
   ]
  },
  {
   "cell_type": "code",
   "execution_count": 20,
   "metadata": {},
   "outputs": [
    {
     "name": "stdout",
     "output_type": "stream",
     "text": [
      "4739715\n"
     ]
    }
   ],
   "source": [
    "# 아스키코드에서 a는 97 b는 98 ... 이런식 이므로 아스키코드 값에서 96를 빼서 사용한다.\n",
    "L = int(input())\n",
    "str_ = input()\n",
    "hash = 0\n",
    "mod = 1234567891\n",
    "\n",
    "for i in range(L):\n",
    "    cur = ord(str_[i])-96\n",
    "    hash = hash + cur * 31**i\n",
    "print(hash%mod)"
   ]
  },
  {
   "cell_type": "code",
   "execution_count": 27,
   "metadata": {},
   "outputs": [
    {
     "name": "stdout",
     "output_type": "stream",
     "text": [
      "2 apple\n",
      "3 banana\n",
      "4 cherry\n"
     ]
    }
   ],
   "source": [
    "my_list = ['apple', 'banana', 'cherry']\n",
    "\n",
    "# 인덱스 시작을 1로 설정\n",
    "for index, value in enumerate(my_list, 2):\n",
    "    print(index, value)\n"
   ]
  },
  {
   "cell_type": "code",
   "execution_count": 28,
   "metadata": {},
   "outputs": [
    {
     "data": {
      "text/plain": [
       "False"
      ]
     },
     "execution_count": 28,
     "metadata": {},
     "output_type": "execute_result"
    }
   ],
   "source": [
    "1.1+0.1==1.2"
   ]
  },
  {
   "cell_type": "code",
   "execution_count": null,
   "metadata": {},
   "outputs": [],
   "source": []
  }
 ],
 "metadata": {
  "kernelspec": {
   "display_name": "Python 3",
   "language": "python",
   "name": "python3"
  },
  "language_info": {
   "codemirror_mode": {
    "name": "ipython",
    "version": 3
   },
   "file_extension": ".py",
   "mimetype": "text/x-python",
   "name": "python",
   "nbconvert_exporter": "python",
   "pygments_lexer": "ipython3",
   "version": "3.10.10"
  }
 },
 "nbformat": 4,
 "nbformat_minor": 2
}
