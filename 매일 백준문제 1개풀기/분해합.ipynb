{
 "cells": [
  {
   "cell_type": "markdown",
   "metadata": {},
   "source": [
    "> 2231번"
   ]
  },
  {
   "cell_type": "code",
   "execution_count": 5,
   "metadata": {},
   "outputs": [
    {
     "name": "stdout",
     "output_type": "stream",
     "text": [
      "198\n"
     ]
    }
   ],
   "source": [
    "N = int(input())\n",
    "for i in range(N+1):\n",
    "    x = list(map(int,str(i))) # 맵 함수는 ( 함수, 반복가능 객체) i값들을 문자열로 바꾸는 str을 map 함수에서 반복 가능 객체를 인식해서 하나씩 int로 바꾸는것. \n",
    "    result = sum(x) + i\n",
    "    if result == N:\n",
    "        print(i)\n",
    "        break\n",
    "    if i == N: # 만약에 N이 될때 까지도 break가 안걸렸다는 것은 그 숫자는 분해합이 안만들어 진다는 것.\n",
    "        print(0)\n",
    "\n",
    "\n"
   ]
  },
  {
   "cell_type": "markdown",
   "metadata": {},
   "source": [
    "> 쉽게 각자리 숫자를 하나씩 나누는 방법."
   ]
  },
  {
   "cell_type": "code",
   "execution_count": 3,
   "metadata": {},
   "outputs": [
    {
     "name": "stdout",
     "output_type": "stream",
     "text": [
      "[3, 0]\n"
     ]
    }
   ],
   "source": [
    "i = 30\n",
    "x = list(map(int,str(i)))\n",
    "print(x)"
   ]
  }
 ],
 "metadata": {
  "kernelspec": {
   "display_name": "Python 3",
   "language": "python",
   "name": "python3"
  },
  "language_info": {
   "codemirror_mode": {
    "name": "ipython",
    "version": 3
   },
   "file_extension": ".py",
   "mimetype": "text/x-python",
   "name": "python",
   "nbconvert_exporter": "python",
   "pygments_lexer": "ipython3",
   "version": "3.10.10"
  }
 },
 "nbformat": 4,
 "nbformat_minor": 2
}
