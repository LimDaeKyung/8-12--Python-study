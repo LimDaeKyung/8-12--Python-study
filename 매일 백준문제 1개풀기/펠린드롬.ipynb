{
 "cells": [
  {
   "cell_type": "markdown",
   "metadata": {},
   "source": [
    "> 내가 만든 코드"
   ]
  },
  {
   "cell_type": "code",
   "execution_count": 26,
   "metadata": {},
   "outputs": [
    {
     "name": "stdout",
     "output_type": "stream",
     "text": [
      "yes\n",
      "yes\n",
      "no\n"
     ]
    }
   ],
   "source": [
    "def check_pael(lists):\n",
    "    first_list = []\n",
    "    last_list = []\n",
    "    for _ in range(num1):\n",
    "        first_list.append(lists.pop(0))  \n",
    "        last_list.append(lists.pop(-1))\n",
    "    \n",
    "    if first_list == last_list:\n",
    "        return 'yes'\n",
    "    else:\n",
    "        return 'no'\n",
    "\n",
    "while True:\n",
    "    N = int(input())\n",
    "    if N == 0:\n",
    "        break\n",
    "    else:\n",
    "        num1 = len(str(N))//2\n",
    "        change_str = []\n",
    "        for i in str(N):\n",
    "            change_str.append(i)\n",
    "        print(check_pael(change_str))\n"
   ]
  },
  {
   "cell_type": "markdown",
   "metadata": {},
   "source": [
    "> 코드 중간 확인"
   ]
  },
  {
   "cell_type": "code",
   "execution_count": 25,
   "metadata": {},
   "outputs": [
    {
     "name": "stdout",
     "output_type": "stream",
     "text": [
      "['1', '2']\n",
      "['1', '2']\n"
     ]
    }
   ],
   "source": [
    "N = int(input())\n",
    "num1 = len(str(N))//2\n",
    "change_str = []\n",
    "for i in str(N):\n",
    "    change_str.append(i)\n",
    "\n",
    "\n",
    "def check_pael(lists):\n",
    "    first_list = []\n",
    "    last_list = []\n",
    "    for _ in range(num1):\n",
    "        first_list.append(lists.pop(0))\n",
    "        last_list.append(lists.pop(-1))\n",
    "\n",
    "    print(first_list)\n",
    "    print(last_list)\n",
    "\n",
    "check_pael(change_str)"
   ]
  },
  {
   "cell_type": "markdown",
   "metadata": {},
   "source": [
    "> 더 나은 풀이"
   ]
  },
  {
   "cell_type": "code",
   "execution_count": null,
   "metadata": {},
   "outputs": [],
   "source": [
    "# reverse 사용\n",
    "# 슬라이스 사용\n",
    "# 덱 사용\n"
   ]
  },
  {
   "cell_type": "code",
   "execution_count": 35,
   "metadata": {},
   "outputs": [
    {
     "name": "stdout",
     "output_type": "stream",
     "text": [
      "[3, 2, 1]\n"
     ]
    }
   ],
   "source": [
    "a = [1,2,3]\n",
    "a.reverse()\n",
    "print(a)"
   ]
  },
  {
   "cell_type": "code",
   "execution_count": 39,
   "metadata": {},
   "outputs": [
    {
     "name": "stdout",
     "output_type": "stream",
     "text": [
      "<list_reverseiterator object at 0x103fe0e50>\n",
      "[3, 2, 1]\n"
     ]
    }
   ],
   "source": [
    "a = [1, 2, 3]\n",
    "b = reversed(a)\n",
    "print(b)  # <list_reverseiterator object at ...>\n",
    "print(list(b))  # [3, 2, 1]"
   ]
  },
  {
   "cell_type": "markdown",
   "metadata": {},
   "source": []
  }
 ],
 "metadata": {
  "kernelspec": {
   "display_name": "Python 3",
   "language": "python",
   "name": "python3"
  },
  "language_info": {
   "codemirror_mode": {
    "name": "ipython",
    "version": 3
   },
   "file_extension": ".py",
   "mimetype": "text/x-python",
   "name": "python",
   "nbconvert_exporter": "python",
   "pygments_lexer": "ipython3",
   "version": "3.10.10"
  }
 },
 "nbformat": 4,
 "nbformat_minor": 2
}
