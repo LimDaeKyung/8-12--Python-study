{
 "cells": [
  {
   "cell_type": "code",
   "execution_count": 21,
   "metadata": {},
   "outputs": [
    {
     "name": "stdout",
     "output_type": "stream",
     "text": [
      "im\n",
      "it\n",
      "no\n",
      "adf\n",
      "but\n",
      "more\n",
      "wait\n",
      "wont\n",
      "yours\n",
      "cannot\n",
      "hesitate\n"
     ]
    }
   ],
   "source": [
    "N = int(input())\n",
    "list1 = set()\n",
    "for i in range(N):\n",
    "    x = input()\n",
    "    list1.add(x)\n",
    "\n",
    "list_ = []    \n",
    "for i in list1:\n",
    "    list_.append(i)\n",
    "\n",
    "list_.sort(key = lambda x: (len(x), x))\n",
    "for i in list_:\n",
    "    print(i)\n",
    "\n"
   ]
  },
  {
   "cell_type": "code",
   "execution_count": null,
   "metadata": {},
   "outputs": [],
   "source": [
    "but\n",
    "i\n",
    "wont\n",
    "hesitate\n",
    "no\n",
    "more\n",
    "no\n",
    "more\n",
    "it\n",
    "cannot\n",
    "wait\n",
    "im\n",
    "yours"
   ]
  },
  {
   "cell_type": "markdown",
   "metadata": {},
   "source": [
    "> lambda 함수"
   ]
  },
  {
   "cell_type": "code",
   "execution_count": 26,
   "metadata": {},
   "outputs": [
    {
     "name": "stdout",
     "output_type": "stream",
     "text": [
      "4\n"
     ]
    }
   ],
   "source": [
    "add_num = lambda x : x+1\n",
    "print(add_num(3))"
   ]
  },
  {
   "cell_type": "code",
   "execution_count": 27,
   "metadata": {},
   "outputs": [
    {
     "data": {
      "text/plain": [
       "12"
      ]
     },
     "execution_count": 27,
     "metadata": {},
     "output_type": "execute_result"
    }
   ],
   "source": [
    "multi_num = lambda x, y : x * y\n",
    "multi_num(3,4)"
   ]
  },
  {
   "cell_type": "code",
   "execution_count": 29,
   "metadata": {},
   "outputs": [
    {
     "data": {
      "text/plain": [
       "['sdf', 'abc', 'adsfdas']"
      ]
     },
     "execution_count": 29,
     "metadata": {},
     "output_type": "execute_result"
    }
   ],
   "source": [
    "# 일반적으로 sort() 또는 sorted와 많이 사용된다. \n",
    "My_list = ['sdf','abc','adsfdas']\n",
    "My_list.sort(key= lambda x: len(x))\n",
    "My_list"
   ]
  },
  {
   "cell_type": "code",
   "execution_count": 30,
   "metadata": {},
   "outputs": [
    {
     "data": {
      "text/plain": [
       "['sdf', 'abc', 'adsfdas']"
      ]
     },
     "execution_count": 30,
     "metadata": {},
     "output_type": "execute_result"
    }
   ],
   "source": [
    "# 그냥 길이 기준으로 정렬할때는 굳이 람다 사용 안하고 len만 사용해도 된다.\n",
    "My_list = ['sdf','abc','adsfdas']\n",
    "My_list.sort(key= len)\n",
    "My_list"
   ]
  },
  {
   "cell_type": "code",
   "execution_count": 34,
   "metadata": {},
   "outputs": [
    {
     "data": {
      "text/plain": [
       "['aaa', 'aaa', 'abc', 'heloo', 'opppps']"
      ]
     },
     "execution_count": 34,
     "metadata": {},
     "output_type": "execute_result"
    }
   ],
   "source": [
    "# lambda를 활용해서 만들어야 하는 경우는 두가지 이상의 조건을 충족시켜야하는 경우에 사용.\n",
    "# 작은순으로 정렬 하되 오름차순도 지켜야 할 경우.\n",
    "My_list = ['abc','heloo','aaa','aaa','opppps']\n",
    "My_list.sort(key= lambda x: (len(x),x))\n",
    "My_list"
   ]
  },
  {
   "cell_type": "code",
   "execution_count": 38,
   "metadata": {},
   "outputs": [
    {
     "name": "stdout",
     "output_type": "stream",
     "text": [
      "[1, 4, 9, 16, 25]\n"
     ]
    }
   ],
   "source": [
    "# map 함수와도 함께 사용 > 반복가능한 객체의 모든 요소에 함수를 적용 시키는 함수 map(함수,반복가능 객체)\n",
    "My_list = list(map(int,input().split()))\n",
    "doubled = list(map(lambda x : x**2,My_list))\n",
    "print(doubled)"
   ]
  },
  {
   "cell_type": "code",
   "execution_count": 39,
   "metadata": {},
   "outputs": [
    {
     "name": "stdout",
     "output_type": "stream",
     "text": [
      "[2, 4, 6, 8]\n"
     ]
    }
   ],
   "source": [
    "# filter 함수와 함께 사용 > 반복가능한 객체에서 조건에 맞는 객체만 필터링 할 때 사용 filter(조건,반복가능 객체)\n",
    "My_list = [ 1,2,3,4,5,6,7,8]\n",
    "even_num = list(filter(lambda x : x%2==0,My_list))\n",
    "print(even_num)\n"
   ]
  },
  {
   "cell_type": "code",
   "execution_count": null,
   "metadata": {},
   "outputs": [],
   "source": []
  }
 ],
 "metadata": {
  "kernelspec": {
   "display_name": "Python 3",
   "language": "python",
   "name": "python3"
  },
  "language_info": {
   "codemirror_mode": {
    "name": "ipython",
    "version": 3
   },
   "file_extension": ".py",
   "mimetype": "text/x-python",
   "name": "python",
   "nbconvert_exporter": "python",
   "pygments_lexer": "ipython3",
   "version": "3.10.10"
  }
 },
 "nbformat": 4,
 "nbformat_minor": 2
}
