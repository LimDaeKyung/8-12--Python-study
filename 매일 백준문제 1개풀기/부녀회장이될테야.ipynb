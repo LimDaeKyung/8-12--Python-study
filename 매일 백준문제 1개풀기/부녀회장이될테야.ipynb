{
 "cells": [
  {
   "cell_type": "markdown",
   "metadata": {},
   "source": [
    ">2775번 / 10월 17일"
   ]
  },
  {
   "cell_type": "code",
   "execution_count": 2,
   "metadata": {},
   "outputs": [
    {
     "data": {
      "text/plain": [
       "[1, 2, 3, 4, 5, 6, 7, 8, 9, 10, 11, 12, 13, 14]"
      ]
     },
     "execution_count": 2,
     "metadata": {},
     "output_type": "execute_result"
    }
   ],
   "source": [
    "# 각 층을 구현\n",
    "#0층\n",
    "list_0 = []\n",
    "for i in range(1,15):\n",
    "    list_0.append(i)\n",
    "list_0\n"
   ]
  },
  {
   "cell_type": "code",
   "execution_count": 15,
   "metadata": {},
   "outputs": [
    {
     "name": "stdout",
     "output_type": "stream",
     "text": [
      "[1, 3, 6, 10, 15, 21, 28, 36, 45, 55, 66, 78, 91, 105]\n",
      "[1, 4, 10, 20, 35, 56, 84, 120, 165, 220, 286, 364, 455, 560]\n"
     ]
    }
   ],
   "source": [
    "#1층구현 \n",
    "list_1 = []\n",
    "list_1.append(1)\n",
    "for i in list_0:\n",
    "    if i == 1:\n",
    "        continue\n",
    "    list_1.append(i+list_1[-1])\n",
    "print(list_1)\n",
    "\n",
    "#2층 구현\n",
    "list_2 = []\n",
    "list_2.append(1)\n",
    "for i in list_1:\n",
    "    if i == 1:\n",
    "        continue\n",
    "    list_2.append(i+list_2[-1])\n",
    "print(list_2)\n",
    "    \n"
   ]
  },
  {
   "cell_type": "code",
   "execution_count": 3,
   "metadata": {},
   "outputs": [
    {
     "name": "stdout",
     "output_type": "stream",
     "text": [
      "1\n",
      "1\n"
     ]
    }
   ],
   "source": [
    "# 테스터 수 받기\n",
    "\n",
    "result = print(result_layers[0][2])\n",
    "T = int(input())\n",
    "for _ in range(T):\n",
    "    k = int(input())\n",
    "    n = int(input())\n",
    "    print(result)"
   ]
  },
  {
   "cell_type": "code",
   "execution_count": null,
   "metadata": {},
   "outputs": [],
   "source": [
    "#result결과값만 짜면 끝.\n"
   ]
  },
  {
   "cell_type": "code",
   "execution_count": null,
   "metadata": {},
   "outputs": [],
   "source": [
    "def lives(floor):\n",
    "    for j in range(floor):\n",
    "        list_0 = [1,2,3,4,5,6,7,8,9,10,11,12,13,14]\n",
    "        list_ = []\n",
    "        list_.append(1)\n",
    "        for i in list_:\n",
    "            if i == 1:\n",
    "                continue\n",
    "            list_.append(i+list_[-1])\n",
    "        print(list_)\n",
    "    \n",
    "lives(5)"
   ]
  },
  {
   "cell_type": "code",
   "execution_count": 9,
   "metadata": {},
   "outputs": [
    {
     "name": "stdout",
     "output_type": "stream",
     "text": [
      "6\n"
     ]
    }
   ],
   "source": [
    "def create_layer(prev_layer):\n",
    "    \"\"\"이전 층(prev_layer)을 입력으로 받아 새로운 층을 생성하는 함수\"\"\"\n",
    "    new_layer = [1]  # 각 층의 첫 번째 값은 항상 1로 시작\n",
    "    for i in prev_layer:\n",
    "        if i == 1:\n",
    "            continue\n",
    "        new_layer.append(i + new_layer[-1])\n",
    "    return new_layer\n",
    "\n",
    "def build_layers(list_0, num_layers):\n",
    "    \"\"\"초기 리스트 list_0과 원하는 층 수 num_layers를 받아 층을 반복적으로 생성\"\"\"\n",
    "    layers = []\n",
    "    \n",
    "    # 1층 생성\n",
    "    current_layer = create_layer(list_0)\n",
    "    layers.append(current_layer)\n",
    "    \n",
    "    # 원하는 층 수만큼 반복해서 생성\n",
    "    for _ in range(num_layers - 1):\n",
    "        current_layer = create_layer(current_layer)  # 현재 층을 이용해 새로운 층 생성\n",
    "        layers.append(current_layer)\n",
    "    \n",
    "    return layers\n",
    "\n",
    "# 초기 리스트와 원하는 층 수\n",
    "list_0 = [1, 2, 3, 4, 5,6,7,8,9,10,11,12,13,14]  # 예시 초기 리스트\n",
    "num_layers = 3  # 3층까지 생성하고 싶다고 가정\n",
    "\n",
    "# 층 생성\n",
    "result_layers = build_layers(list_0, num_layers)\n",
    "\n",
    "print(result_layers[0][2])\n"
   ]
  },
  {
   "cell_type": "code",
   "execution_count": 13,
   "metadata": {},
   "outputs": [
    {
     "name": "stdout",
     "output_type": "stream",
     "text": [
      "8568\n",
      "2380\n"
     ]
    }
   ],
   "source": [
    "def create_layer(prev_layer):\n",
    "    new_layer = [1]  \n",
    "    for i in prev_layer:\n",
    "        if i == 1:\n",
    "            continue\n",
    "        new_layer.append(i + new_layer[-1])\n",
    "    return new_layer\n",
    "\n",
    "def build_layers(list_0, num_layers):\n",
    "    \"\"\"초기 리스트 list_0과 원하는 층 수 num_layers를 받아 층을 반복적으로 생성\"\"\"\n",
    "    layers = []\n",
    "    \n",
    "    # 1층 생성\n",
    "    current_layer = create_layer(list_0)\n",
    "    layers.append(current_layer)\n",
    "    \n",
    "    # 원하는 층 수만큼 반복해서 생성\n",
    "    for _ in range(num_layers - 1):\n",
    "        current_layer = create_layer(current_layer)  # 현재 층을 이용해 새로운 층 생성\n",
    "        layers.append(current_layer)\n",
    "    \n",
    "    return layers\n",
    "\n",
    "list_0 = [1, 2, 3, 4, 5, 6, 7, 8, 9, 10, 11, 12, 13, 14]\n",
    "T = int(input())\n",
    "for _ in range(T):\n",
    "    k = int(input())\n",
    "    n = int(input())\n",
    "    result_layers = build_layers(list_0, k)\n",
    "    print(result_layers[k-1][n-1])"
   ]
  },
  {
   "cell_type": "code",
   "execution_count": 14,
   "metadata": {},
   "outputs": [
    {
     "name": "stdout",
     "output_type": "stream",
     "text": [
      "8568\n",
      "2380\n"
     ]
    }
   ],
   "source": [
    "def create_floor(prev_floor):\n",
    "    new_floor = [1]\n",
    "    for i in prev_floor:\n",
    "        if i == 1:\n",
    "            continue\n",
    "        new_floor.append(i+new_floor[-1])\n",
    "    return new_floor\n",
    "\n",
    "def save_floor(list_0,floor_number):\n",
    "    all_floor = []\n",
    "    current_floor = create_floor(list_0)\n",
    "    all_floor.append(current_floor)\n",
    "    \n",
    "    for _ in range(floor_number-1):\n",
    "        current_floor = create_floor(current_floor)\n",
    "        all_floor.append(current_floor)\n",
    "        \n",
    "\n",
    "    return all_floor\n",
    "\n",
    "list_0 = [1,2,3,4,5,6,7,8,9,10,11,12,13,14]\n",
    "\n",
    "T = int(input(\"반복 횟수를 입력:\"))\n",
    "for _ in range(T):\n",
    "    k = int(input(\"원하는 층수 입력:\"))\n",
    "    n = int(input(\"원하는 호수 입력\"))\n",
    "    result = save_floor(list_0,k)\n",
    "    print(result[k-1][n-1])\n"
   ]
  },
  {
   "cell_type": "markdown",
   "metadata": {},
   "source": [
    "> 간략한 풀이"
   ]
  },
  {
   "cell_type": "code",
   "execution_count": 1,
   "metadata": {},
   "outputs": [
    {
     "name": "stdout",
     "output_type": "stream",
     "text": [
      "6\n",
      "10\n"
     ]
    }
   ],
   "source": [
    "t = int(input())\n",
    "for i in range(t):\n",
    "    k = int(input())\n",
    "    n = int(input())\n",
    "    people = [i for i in range(1,n+1)]\n",
    "\n",
    "    for x in range(k):\n",
    "        new = []\n",
    "        for y in range(n):\n",
    "            new.append(sum(people[:y+1]))\n",
    "        people = new.copy()\n",
    "    print(people[-1])\n",
    "\n",
    "        "
   ]
  },
  {
   "cell_type": "code",
   "execution_count": 8,
   "metadata": {},
   "outputs": [
    {
     "name": "stdout",
     "output_type": "stream",
     "text": [
      "[1, 5, 15]\n"
     ]
    }
   ],
   "source": [
    "T = int(input())\n",
    "for _ in range(T):\n",
    "    f = int(input())\n",
    "    n = int(input())\n",
    "    people = [ i for i in range(1,n+1)]\n",
    "    for i in range(f):\n",
    "        for j in range(1,n):\n",
    "            people[j] = people[j-1]+people[j]\n",
    "    print(people[-1])\n",
    "\n"
   ]
  }
 ],
 "metadata": {
  "kernelspec": {
   "display_name": "Python 3",
   "language": "python",
   "name": "python3"
  },
  "language_info": {
   "codemirror_mode": {
    "name": "ipython",
    "version": 3
   },
   "file_extension": ".py",
   "mimetype": "text/x-python",
   "name": "python",
   "nbconvert_exporter": "python",
   "pygments_lexer": "ipython3",
   "version": "3.10.10"
  }
 },
 "nbformat": 4,
 "nbformat_minor": 2
}
