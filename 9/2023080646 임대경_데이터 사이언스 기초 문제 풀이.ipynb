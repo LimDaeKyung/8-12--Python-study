{
 "cells": [
  {
   "cell_type": "markdown",
   "metadata": {},
   "source": [
    "#### 1."
   ]
  },
  {
   "cell_type": "code",
   "execution_count": 2,
   "metadata": {},
   "outputs": [
    {
     "name": "stdout",
     "output_type": "stream",
     "text": [
      "0.002104981790236894\n"
     ]
    }
   ],
   "source": [
    "w = int(input())\n",
    "t= int(input())\n",
    "BMI = w/(t**2)\n",
    "\n",
    "print(BMI)"
   ]
  },
  {
   "cell_type": "markdown",
   "metadata": {},
   "source": [
    "#### 2."
   ]
  },
  {
   "cell_type": "code",
   "execution_count": 5,
   "metadata": {},
   "outputs": [
    {
     "name": "stdout",
     "output_type": "stream",
     "text": [
      "평균= 20.0\n"
     ]
    }
   ],
   "source": [
    "x = int(input('첫 번째 수를 입력하시오:'))\n",
    "y = int(input('첫 번째 수를 입력하시오:'))\n",
    "z = int(input('첫 번째 수를 입력하시오:'))\n",
    "\n",
    "avg = (x + y + z)/3\n",
    "print('평균=',avg)\n"
   ]
  },
  {
   "cell_type": "markdown",
   "metadata": {},
   "source": [
    "#### 3."
   ]
  },
  {
   "cell_type": "code",
   "execution_count": 7,
   "metadata": {},
   "outputs": [
    {
     "name": "stdout",
     "output_type": "stream",
     "text": [
      "입장 불가\n"
     ]
    }
   ],
   "source": [
    "age = int(input())\n",
    "\n",
    "if age >= 15:\n",
    "    print('입장 가능')\n",
    "\n",
    "else:\n",
    "    print('입장 불가')"
   ]
  },
  {
   "cell_type": "markdown",
   "metadata": {},
   "source": [
    "#### 4."
   ]
  },
  {
   "cell_type": "code",
   "execution_count": 11,
   "metadata": {},
   "outputs": [
    {
     "name": "stdout",
     "output_type": "stream",
     "text": [
      "환영합니다\n"
     ]
    }
   ],
   "source": [
    "ID = input()\n",
    "\n",
    "if ID == 'ilovepython':\n",
    "    print('환영합니다')"
   ]
  },
  {
   "cell_type": "markdown",
   "metadata": {},
   "source": [
    "#### 5."
   ]
  },
  {
   "cell_type": "code",
   "execution_count": 19,
   "metadata": {},
   "outputs": [
    {
     "name": "stdout",
     "output_type": "stream",
     "text": [
      "120\n"
     ]
    }
   ],
   "source": [
    "n = int(input())\n",
    "result = 1\n",
    "num_1 = 1\n",
    "\n",
    "for i in range(n):\n",
    "    result = result*num_1\n",
    "    num_1 += 1\n",
    "\n",
    "print(result)\n"
   ]
  },
  {
   "cell_type": "markdown",
   "metadata": {},
   "source": [
    "#### 6."
   ]
  },
  {
   "cell_type": "code",
   "execution_count": 20,
   "metadata": {},
   "outputs": [
    {
     "name": "stdout",
     "output_type": "stream",
     "text": [
      "호밀빵 + 미트볼 + 양상추 + 마요네즈\n",
      "호밀빵 + 미트볼 + 양상추 + 허니 머스타드\n",
      "호밀빵 + 미트볼 + 양상추 + 칠리\n",
      "호밀빵 + 미트볼 + 토마토 + 마요네즈\n",
      "호밀빵 + 미트볼 + 토마토 + 허니 머스타드\n",
      "호밀빵 + 미트볼 + 토마토 + 칠리\n",
      "호밀빵 + 미트볼 + 오이 + 마요네즈\n",
      "호밀빵 + 미트볼 + 오이 + 허니 머스타드\n",
      "호밀빵 + 미트볼 + 오이 + 칠리\n",
      "호밀빵 + 소시지 + 양상추 + 마요네즈\n",
      "호밀빵 + 소시지 + 양상추 + 허니 머스타드\n",
      "호밀빵 + 소시지 + 양상추 + 칠리\n",
      "호밀빵 + 소시지 + 토마토 + 마요네즈\n",
      "호밀빵 + 소시지 + 토마토 + 허니 머스타드\n",
      "호밀빵 + 소시지 + 토마토 + 칠리\n",
      "호밀빵 + 소시지 + 오이 + 마요네즈\n",
      "호밀빵 + 소시지 + 오이 + 허니 머스타드\n",
      "호밀빵 + 소시지 + 오이 + 칠리\n",
      "호밀빵 + 닭가슴살 + 양상추 + 마요네즈\n",
      "호밀빵 + 닭가슴살 + 양상추 + 허니 머스타드\n",
      "호밀빵 + 닭가슴살 + 양상추 + 칠리\n",
      "호밀빵 + 닭가슴살 + 토마토 + 마요네즈\n",
      "호밀빵 + 닭가슴살 + 토마토 + 허니 머스타드\n",
      "호밀빵 + 닭가슴살 + 토마토 + 칠리\n",
      "호밀빵 + 닭가슴살 + 오이 + 마요네즈\n",
      "호밀빵 + 닭가슴살 + 오이 + 허니 머스타드\n",
      "호밀빵 + 닭가슴살 + 오이 + 칠리\n",
      "위트 + 미트볼 + 양상추 + 마요네즈\n",
      "위트 + 미트볼 + 양상추 + 허니 머스타드\n",
      "위트 + 미트볼 + 양상추 + 칠리\n",
      "위트 + 미트볼 + 토마토 + 마요네즈\n",
      "위트 + 미트볼 + 토마토 + 허니 머스타드\n",
      "위트 + 미트볼 + 토마토 + 칠리\n",
      "위트 + 미트볼 + 오이 + 마요네즈\n",
      "위트 + 미트볼 + 오이 + 허니 머스타드\n",
      "위트 + 미트볼 + 오이 + 칠리\n",
      "위트 + 소시지 + 양상추 + 마요네즈\n",
      "위트 + 소시지 + 양상추 + 허니 머스타드\n",
      "위트 + 소시지 + 양상추 + 칠리\n",
      "위트 + 소시지 + 토마토 + 마요네즈\n",
      "위트 + 소시지 + 토마토 + 허니 머스타드\n",
      "위트 + 소시지 + 토마토 + 칠리\n",
      "위트 + 소시지 + 오이 + 마요네즈\n",
      "위트 + 소시지 + 오이 + 허니 머스타드\n",
      "위트 + 소시지 + 오이 + 칠리\n",
      "위트 + 닭가슴살 + 양상추 + 마요네즈\n",
      "위트 + 닭가슴살 + 양상추 + 허니 머스타드\n",
      "위트 + 닭가슴살 + 양상추 + 칠리\n",
      "위트 + 닭가슴살 + 토마토 + 마요네즈\n",
      "위트 + 닭가슴살 + 토마토 + 허니 머스타드\n",
      "위트 + 닭가슴살 + 토마토 + 칠리\n",
      "위트 + 닭가슴살 + 오이 + 마요네즈\n",
      "위트 + 닭가슴살 + 오이 + 허니 머스타드\n",
      "위트 + 닭가슴살 + 오이 + 칠리\n",
      "화이트 + 미트볼 + 양상추 + 마요네즈\n",
      "화이트 + 미트볼 + 양상추 + 허니 머스타드\n",
      "화이트 + 미트볼 + 양상추 + 칠리\n",
      "화이트 + 미트볼 + 토마토 + 마요네즈\n",
      "화이트 + 미트볼 + 토마토 + 허니 머스타드\n",
      "화이트 + 미트볼 + 토마토 + 칠리\n",
      "화이트 + 미트볼 + 오이 + 마요네즈\n",
      "화이트 + 미트볼 + 오이 + 허니 머스타드\n",
      "화이트 + 미트볼 + 오이 + 칠리\n",
      "화이트 + 소시지 + 양상추 + 마요네즈\n",
      "화이트 + 소시지 + 양상추 + 허니 머스타드\n",
      "화이트 + 소시지 + 양상추 + 칠리\n",
      "화이트 + 소시지 + 토마토 + 마요네즈\n",
      "화이트 + 소시지 + 토마토 + 허니 머스타드\n",
      "화이트 + 소시지 + 토마토 + 칠리\n",
      "화이트 + 소시지 + 오이 + 마요네즈\n",
      "화이트 + 소시지 + 오이 + 허니 머스타드\n",
      "화이트 + 소시지 + 오이 + 칠리\n",
      "화이트 + 닭가슴살 + 양상추 + 마요네즈\n",
      "화이트 + 닭가슴살 + 양상추 + 허니 머스타드\n",
      "화이트 + 닭가슴살 + 양상추 + 칠리\n",
      "화이트 + 닭가슴살 + 토마토 + 마요네즈\n",
      "화이트 + 닭가슴살 + 토마토 + 허니 머스타드\n",
      "화이트 + 닭가슴살 + 토마토 + 칠리\n",
      "화이트 + 닭가슴살 + 오이 + 마요네즈\n",
      "화이트 + 닭가슴살 + 오이 + 허니 머스타드\n",
      "화이트 + 닭가슴살 + 오이 + 칠리\n"
     ]
    }
   ],
   "source": [
    "bread = ['호밀빵','위트','화이트']\n",
    "meat = ['미트볼','소시지','닭가슴살']\n",
    "vege = ['양상추','토마토','오이']\n",
    "sauce = ['마요네즈','허니 머스타드','칠리']\n",
    "\n",
    "for i in bread:\n",
    "    for j in meat:\n",
    "        for x in vege:\n",
    "            for y in sauce:\n",
    "                print(f'{i} + {j} + {x} + {y}')"
   ]
  },
  {
   "cell_type": "markdown",
   "metadata": {},
   "source": [
    "#### 7."
   ]
  },
  {
   "cell_type": "code",
   "execution_count": 21,
   "metadata": {},
   "outputs": [
    {
     "data": {
      "text/plain": [
       "600000.0"
      ]
     },
     "execution_count": 21,
     "metadata": {},
     "output_type": "execute_result"
    }
   ],
   "source": [
    "def weeklyPay(rate,hour):\n",
    "    if hour <= 30:\n",
    "        pay = rate*hour\n",
    "    else:\n",
    "        pay = rate*hour*1.5\n",
    "    return pay\n",
    "\n",
    "weeklyPay(10000,40)"
   ]
  },
  {
   "cell_type": "markdown",
   "metadata": {},
   "source": [
    "#### 8."
   ]
  },
  {
   "cell_type": "code",
   "execution_count": 22,
   "metadata": {},
   "outputs": [
    {
     "data": {
      "text/plain": [
       "(18.84, 28.26)"
      ]
     },
     "execution_count": 22,
     "metadata": {},
     "output_type": "execute_result"
    }
   ],
   "source": [
    "def ans(r):\n",
    "    l = 2*3.14*r\n",
    "    s = r**2*3.14\n",
    "    return l,s\n",
    "\n",
    "ans(3)\n",
    "\n"
   ]
  },
  {
   "cell_type": "markdown",
   "metadata": {},
   "source": [
    "#### 9."
   ]
  },
  {
   "cell_type": "code",
   "execution_count": 24,
   "metadata": {},
   "outputs": [
    {
     "name": "stdout",
     "output_type": "stream",
     "text": [
      "[25.68007405 23.88946281 20.65754    27.45982194 25.53544639 22.72043837]\n"
     ]
    }
   ],
   "source": [
    "import numpy as np\n",
    "heights = np.array([1.83, 1.76, 1.69, 1.86, 1.77, 1.73])\n",
    "weights = np.array([86, 74, 59, 95, 80, 68])\n",
    "\n",
    "bmi = weights / heights**2\n",
    "print(bmi)"
   ]
  },
  {
   "cell_type": "markdown",
   "metadata": {},
   "source": [
    "#### 10."
   ]
  },
  {
   "cell_type": "code",
   "execution_count": 27,
   "metadata": {},
   "outputs": [
    {
     "name": "stdout",
     "output_type": "stream",
     "text": [
      "      feature_1  feature_2  feature_3  feature_4  feature_5  feature_6  \\\n",
      "0           100        160     1.6000          0          0          0   \n",
      "1            20         83     4.1500          1          0          0   \n",
      "2            99        150     1.5151          1          0          0   \n",
      "3            40         40     1.0000          0          0          0   \n",
      "4            12        234    19.5000          1          0          0   \n",
      "...         ...        ...        ...        ...        ...        ...   \n",
      "1758          1          1     2.0000          1          0          0   \n",
      "1759         40        200     5.0000          1          0          0   \n",
      "1760         96        218     2.2708          1          0          0   \n",
      "1761         16         81     5.0625          1          0          0   \n",
      "1762         36         41     1.1388          0          0          0   \n",
      "\n",
      "      feature_7  feature_8  feature_9  feature_10  ...  feature_1550  \\\n",
      "0             0          0          0           0  ...             0   \n",
      "1             0          0          0           1  ...             0   \n",
      "2             0          0          0           0  ...             0   \n",
      "3             0          0          0           0  ...             0   \n",
      "4             0          0          0           0  ...             0   \n",
      "...         ...        ...        ...         ...  ...           ...   \n",
      "1758          0          0          0           0  ...             0   \n",
      "1759          0          0          0           0  ...             0   \n",
      "1760          0          0          0           0  ...             0   \n",
      "1761          1          0          0           0  ...             0   \n",
      "1762          0          0          0           0  ...             0   \n",
      "\n",
      "      feature_1551  feature_1552  feature_1553  feature_1554  feature_1555  \\\n",
      "0                0             0             0             0             0   \n",
      "1                0             0             0             0             1   \n",
      "2                0             0             0             0             0   \n",
      "3                0             0             0             0             0   \n",
      "4                0             0             0             0             0   \n",
      "...            ...           ...           ...           ...           ...   \n",
      "1758             0             0             0             0             0   \n",
      "1759             0             0             0             0             0   \n",
      "1760             0             0             0             0             0   \n",
      "1761             0             0             0             0             0   \n",
      "1762             0             0             0             0             0   \n",
      "\n",
      "      feature_1556  feature_1557  feature_1558  Class  \n",
      "0                0             0             0      0  \n",
      "1                0             0             0      0  \n",
      "2                0             0             0      0  \n",
      "3                0             0             0      0  \n",
      "4                0             0             0      0  \n",
      "...            ...           ...           ...    ...  \n",
      "1758             0             0             0      0  \n",
      "1759             0             0             0      0  \n",
      "1760             0             0             0      0  \n",
      "1761             0             0             0      0  \n",
      "1762             0             0             0      0  \n",
      "\n",
      "[1763 rows x 1559 columns]\n"
     ]
    }
   ],
   "source": [
    "import pandas as pd\n",
    "file_path = '/Users/imdaegyeong/Desktop/archive/Train.csv'\n",
    "\n",
    "df = pd.read_csv(file_path)\n",
    "print(df)"
   ]
  }
 ],
 "metadata": {
  "kernelspec": {
   "display_name": "Python 3",
   "language": "python",
   "name": "python3"
  },
  "language_info": {
   "codemirror_mode": {
    "name": "ipython",
    "version": 3
   },
   "file_extension": ".py",
   "mimetype": "text/x-python",
   "name": "python",
   "nbconvert_exporter": "python",
   "pygments_lexer": "ipython3",
   "version": "3.10.10"
  }
 },
 "nbformat": 4,
 "nbformat_minor": 2
}
