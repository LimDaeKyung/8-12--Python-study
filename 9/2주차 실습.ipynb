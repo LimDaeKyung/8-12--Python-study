{
 "cells": [
  {
   "cell_type": "code",
   "execution_count": 15,
   "metadata": {},
   "outputs": [
    {
     "name": "stdout",
     "output_type": "stream",
     "text": [
      "32\n"
     ]
    }
   ],
   "source": [
    "score = [ 32,56,64,72,12,37,98,77,59,69]\n",
    "print(score[0])"
   ]
  },
  {
   "cell_type": "code",
   "execution_count": 16,
   "metadata": {},
   "outputs": [
    {
     "name": "stdout",
     "output_type": "stream",
     "text": [
      "[2, 4, 6]\n"
     ]
    }
   ],
   "source": [
    "score_1 = list(i for i in range(0,10))\n",
    "print(score_1[2:7:2])"
   ]
  },
  {
   "cell_type": "code",
   "execution_count": 17,
   "metadata": {},
   "outputs": [
    {
     "name": "stdout",
     "output_type": "stream",
     "text": [
      "['apple', 'banana', 'cherry']\n",
      "['cherry', 'orange']\n",
      "['apple', 'banana', 'cherry']\n",
      "['cherry', 'orange', 'kiwi']\n",
      "kiwi\n"
     ]
    }
   ],
   "source": [
    "a = ['apple','banana','cherry','orange','kiwi']\n",
    "print(a[:3])\n",
    "print(a[2:4])\n",
    "print(a[:3])\n",
    "print(a[2:])\n",
    "print(a[-1])\n"
   ]
  },
  {
   "cell_type": "code",
   "execution_count": 18,
   "metadata": {},
   "outputs": [
    {
     "name": "stdout",
     "output_type": "stream",
     "text": [
      "리스트 뒤에 추가\n",
      "[1, 2, 3, 4, 5]\n"
     ]
    }
   ],
   "source": [
    "print('리스트 뒤에 추가')\n",
    "List = [1,2,3,4]\n",
    "List.append(5)\n",
    "print(List)"
   ]
  },
  {
   "cell_type": "code",
   "execution_count": 19,
   "metadata": {},
   "outputs": [
    {
     "name": "stdout",
     "output_type": "stream",
     "text": [
      "리스트 중간에 추가\n",
      "[1, 2, 5, 3, 4]\n"
     ]
    }
   ],
   "source": [
    "print('리스트 중간에 추가')\n",
    "List = [1,2,3,4]\n",
    "List.insert(2,5)\n",
    "print(List)"
   ]
  },
  {
   "cell_type": "code",
   "execution_count": 21,
   "metadata": {},
   "outputs": [
    {
     "name": "stdout",
     "output_type": "stream",
     "text": [
      "0\n",
      "(2,)\n",
      "(1, 2, 3)\n",
      "(1, 2, 3)\n",
      "('a', 'b', ('ab', 'cd'))\n"
     ]
    }
   ],
   "source": [
    "t1= 0\n",
    "t2=(2,)\n",
    "t3=(1,2,3)\n",
    "t4=1,2,3\n",
    "t5=('a','b',('ab','cd'))\n",
    "\n",
    "print(t1)\n",
    "print(t2)\n",
    "print(t3)\n",
    "print(t4)\n",
    "print(t5)"
   ]
  },
  {
   "cell_type": "code",
   "execution_count": 22,
   "metadata": {},
   "outputs": [
    {
     "data": {
      "text/plain": [
       "1"
      ]
     },
     "execution_count": 22,
     "metadata": {},
     "output_type": "execute_result"
    }
   ],
   "source": [
    "t1 = (1,2,'a','b')\n",
    "t1[0]"
   ]
  },
  {
   "cell_type": "code",
   "execution_count": 23,
   "metadata": {},
   "outputs": [
    {
     "name": "stdout",
     "output_type": "stream",
     "text": [
      "{1: 'a', 2: 'b'}\n"
     ]
    }
   ],
   "source": [
    "a = {1:'a'}\n",
    "a[2] = 'b'\n",
    "print(a)"
   ]
  },
  {
   "cell_type": "code",
   "execution_count": 24,
   "metadata": {},
   "outputs": [
    {
     "name": "stdout",
     "output_type": "stream",
     "text": [
      "13 10 26 7.0 225 8 2\n"
     ]
    }
   ],
   "source": [
    "a = 11 + 2\n",
    "b = 12 - 2\n",
    "c = 13 * 2\n",
    "d = 14 /2\n",
    "e = 15 ** 2\n",
    "f = 16//2\n",
    "g = 17 % 3\n",
    "print(a,b,c,d,e,f,g)"
   ]
  },
  {
   "cell_type": "code",
   "execution_count": 25,
   "metadata": {},
   "outputs": [
    {
     "name": "stdout",
     "output_type": "stream",
     "text": [
      "-19\n"
     ]
    }
   ],
   "source": [
    "a = 11 + 6-4*3**2\n",
    "print(a)"
   ]
  },
  {
   "cell_type": "code",
   "execution_count": 27,
   "metadata": {},
   "outputs": [
    {
     "name": "stdout",
     "output_type": "stream",
     "text": [
      "원의 면적: 379.94\n"
     ]
    }
   ],
   "source": [
    "c = 11**2*3.14\n",
    "print('원의 면적:',c)\n"
   ]
  },
  {
   "cell_type": "code",
   "execution_count": 33,
   "metadata": {},
   "outputs": [
    {
     "name": "stdout",
     "output_type": "stream",
     "text": [
      "True\n",
      "True\n",
      "False\n",
      "False\n",
      "False\n",
      "True\n"
     ]
    }
   ],
   "source": [
    "a = 11 + 2\n",
    "b = 12 - 2\n",
    "\n",
    "print(a>b)\n",
    "print(a>=b)\n",
    "print(a<b)\n",
    "print(a<=b)\n",
    "print(a==b)\n",
    "print(a!=b)"
   ]
  },
  {
   "cell_type": "code",
   "execution_count": 28,
   "metadata": {},
   "outputs": [
    {
     "name": "stdout",
     "output_type": "stream",
     "text": [
      "False\n",
      "True\n",
      "False\n",
      "True\n"
     ]
    }
   ],
   "source": [
    "a  = True\n",
    "b = False\n",
    "\n",
    "print(a and b)\n",
    "print(a or b)\n",
    "print(not a)\n",
    "print(not b)"
   ]
  },
  {
   "cell_type": "code",
   "execution_count": 31,
   "metadata": {},
   "outputs": [
    {
     "name": "stdout",
     "output_type": "stream",
     "text": [
      "[99, 98, 97, 96, 95, 94, 93, 92, 91, 90, 89, 88, 87, 86, 85, 84, 83, 82, 81, 80, 79, 78, 77, 76, 75, 74, 73, 72, 71, 70, 69, 68, 67, 66, 65, 64, 63, 62, 61, 60, 59, 58, 57, 56, 55, 54, 53, 52, 51, 50, 49, 48, 47, 46, 45, 44, 43, 42, 41, 40, 39, 38, 37, 36, 35, 34, 33, 32, 31, 30, 29, 28, 27, 26, 25, 24, 23, 22, 21, 20, 19, 18, 17, 16, 15, 14, 13, 12, 11, 10, 9, 8, 7, 6, 5, 4, 3, 2, 1]\n"
     ]
    },
    {
     "ename": "AttributeError",
     "evalue": "'NoneType' object has no attribute 'sort'",
     "output_type": "error",
     "traceback": [
      "\u001b[0;31m---------------------------------------------------------------------------\u001b[0m",
      "\u001b[0;31mAttributeError\u001b[0m                            Traceback (most recent call last)",
      "Cell \u001b[0;32mIn[31], line 5\u001b[0m\n\u001b[1;32m      2\u001b[0m reverse_list \u001b[38;5;241m=\u001b[39m list_3\u001b[38;5;241m.\u001b[39mreverse()\n\u001b[1;32m      4\u001b[0m \u001b[38;5;28mprint\u001b[39m(list_3)\n\u001b[0;32m----> 5\u001b[0m \u001b[43mreverse_list\u001b[49m\u001b[38;5;241;43m.\u001b[39;49m\u001b[43msort\u001b[49m()\n\u001b[1;32m      6\u001b[0m \u001b[38;5;28mprint\u001b[39m(reverse_list)\n",
      "\u001b[0;31mAttributeError\u001b[0m: 'NoneType' object has no attribute 'sort'"
     ]
    }
   ],
   "source": [
    "list_3 = list(i for i in range(1,100))\n",
    "reverse_list = list_3.reverse()\n",
    "\n",
    "print(list_3)\n",
    "reverse_list.sort()\n",
    "print(reverse_list)"
   ]
  },
  {
   "cell_type": "markdown",
   "metadata": {},
   "source": [
    "#### 실습 1"
   ]
  },
  {
   "cell_type": "code",
   "execution_count": 39,
   "metadata": {},
   "outputs": [
    {
     "name": "stdout",
     "output_type": "stream",
     "text": [
      "원금(원) : 100000\n",
      "연 이자율(%) : 5\n",
      "기간(년) : 5\n",
      "\n",
      "5년 후 원리금은 127628원 입니다.\n"
     ]
    }
   ],
   "source": [
    "og_money  = int(input('원금(원):'))\n",
    "rate = int(input('연 이율(%):'))\n",
    "year = int(input('기간 (년)):'))\n",
    "\n",
    "result = og_money*((1+rate/100)**year)\n",
    "\n",
    "print(f'원금(원) : {og_money}')\n",
    "print(f'연 이자율(%) : {rate}')\n",
    "print(f'기간(년) : {year}')\n",
    "print()\n",
    "print(f'{year}년 후 원리금은 {int(result)}원 입니다.')\n",
    "\n"
   ]
  },
  {
   "cell_type": "markdown",
   "metadata": {},
   "source": [
    "#### 실습 2"
   ]
  },
  {
   "cell_type": "code",
   "execution_count": 40,
   "metadata": {},
   "outputs": [
    {
     "name": "stdout",
     "output_type": "stream",
     "text": [
      "이진수 abc에 대하여\n",
      "a 입력 : 1\n",
      "b 입력 : 0\n",
      "c 입력 : 1\n",
      "\n",
      "2진수 101를 10진수로 변환하면 5입니다.\n"
     ]
    }
   ],
   "source": [
    "a = int(input('a 입력 :'))\n",
    "b = int(input('b 입력 :'))\n",
    "c = int(input('c 입력 :'))\n",
    "\n",
    "result_2 = a*2**2 + b*2 + c*1\n",
    "\n",
    "print('이진수 abc에 대하여')\n",
    "print(f'a 입력 : {a}')\n",
    "print(f'b 입력 : {b}')\n",
    "print(f'c 입력 : {c}')\n",
    "print()\n",
    "print(f'2진수 {str(a)+str(b)+str(c)}를 10진수로 변환하면 {result_2}입니다.')"
   ]
  },
  {
   "cell_type": "markdown",
   "metadata": {},
   "source": [
    "#### 실습 3"
   ]
  },
  {
   "cell_type": "code",
   "execution_count": 41,
   "metadata": {},
   "outputs": [
    {
     "name": "stdout",
     "output_type": "stream",
     "text": [
      "최대 원소값은 55 입니다.\n"
     ]
    }
   ],
   "source": [
    "# list_1 = list(map(int,input().split()))\n",
    "list_1 = [1,7,22,55,20,30,40,33]\n",
    "\n",
    "print(f'최대 원소값은 {max(list_1)} 입니다.')"
   ]
  },
  {
   "cell_type": "code",
   "execution_count": 46,
   "metadata": {},
   "outputs": [
    {
     "name": "stdout",
     "output_type": "stream",
     "text": [
      "55\n"
     ]
    }
   ],
   "source": [
    "# list_4 = list(map(int,input().split()))\n",
    "list_4 = [1,7,22,55,20,30,40,33]\n",
    "max_list = [list_4[0]]\n",
    "\n",
    "for i in list_4:\n",
    "    if i >= max_list[-1]:\n",
    "        max_list[0] = i\n",
    "\n",
    "print(int(max_list[0]))\n",
    "\n",
    "\n"
   ]
  },
  {
   "cell_type": "markdown",
   "metadata": {},
   "source": [
    "##### 데이터(자료)구조론, 알고리즘, 데이터베이스"
   ]
  }
 ],
 "metadata": {
  "kernelspec": {
   "display_name": "Python 3",
   "language": "python",
   "name": "python3"
  },
  "language_info": {
   "codemirror_mode": {
    "name": "ipython",
    "version": 3
   },
   "file_extension": ".py",
   "mimetype": "text/x-python",
   "name": "python",
   "nbconvert_exporter": "python",
   "pygments_lexer": "ipython3",
   "version": "3.10.10"
  }
 },
 "nbformat": 4,
 "nbformat_minor": 2
}
