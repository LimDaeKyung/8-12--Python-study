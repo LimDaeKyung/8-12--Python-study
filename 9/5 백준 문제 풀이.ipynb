{
 "cells": [
  {
   "cell_type": "markdown",
   "metadata": {},
   "source": [
    "#### 2563 색종이"
   ]
  },
  {
   "cell_type": "code",
   "execution_count": 9,
   "metadata": {},
   "outputs": [
    {
     "name": "stdout",
     "output_type": "stream",
     "text": [
      "260\n"
     ]
    }
   ],
   "source": [
    "# 입력 받기 첫줄에는 종이 숫자. 그밑으로는 종이의 왼쪽 밑 좌표 받기.\n",
    "n = int(input())\n",
    "\n",
    "\n",
    "# 도화지 만들기. 도화지는 왼쪽 밑 한칸만 입력하면 자동으로 4칸이 완성되는걸로 생각.\n",
    "\n",
    "# paper = []\n",
    "# for i in range(100):\n",
    "#     for j in range(100):\n",
    "#         paper.append([i,j])\n",
    "\n",
    "# 도화지 이렇게 한줄로 만들수 있다.\n",
    "paper = [[i,j] for i in range(100) for j in range(100)]        \n",
    "    \n",
    "# 입력받은 숫자에서 가로 10칸 새로 10칸에 해당하는 부분을 페이퍼에서 지우는 함수 설정.\n",
    "def delete_paper(x,y):\n",
    "    for i in range(x,x+10):\n",
    "        for j in range(y,y+10):\n",
    "            if [i,j] in paper:\n",
    "                paper.remove([i,j])\n",
    "\n",
    "list_1=[]\n",
    "for _ in range(n):\n",
    "    x,y = map(int,input().split())\n",
    "    list_1.append([x,y])\n",
    "\n",
    "for i in list_1:\n",
    "    x_1 = i[0]\n",
    "    y_1 = i[1]\n",
    "    delete_paper(x_1,y_1)\n",
    "\n",
    "\n",
    "print(10000-len(paper))\n",
    "\n",
    "\n",
    "                \n",
    "        \n",
    "\n",
    "\n",
    "\n",
    "    \n",
    "\n"
   ]
  },
  {
   "cell_type": "markdown",
   "metadata": {},
   "source": [
    "#### 2720 세탁소 사장 동혁"
   ]
  },
  {
   "cell_type": "code",
   "execution_count": 25,
   "metadata": {},
   "outputs": [
    {
     "name": "stdout",
     "output_type": "stream",
     "text": [
      "4 2 0 4 \n",
      "1 0 0 0 \n",
      "7 1 1 4 \n"
     ]
    }
   ],
   "source": [
    "# 그리디 문제인것 같음.\n",
    " \n",
    "Test_case = int(input())\n",
    "\n",
    "# Quter = 25\n",
    "# Dime = 10\n",
    "# Nickel = 5\n",
    "# Penny = 1\n",
    "\n",
    "# 큰 동전부터 사용하는 그리디 알고리즘을 이용한 함수 설계\n",
    "\n",
    "def exchange(amount):\n",
    "    count_1 = []\n",
    "    coins = [25,10,5,1]\n",
    "\n",
    "    for i in coins:\n",
    "        count_1.append(amount//i)\n",
    "        amount = amount%i\n",
    "\n",
    "    return count_1\n",
    "\n",
    "\n",
    "for i in range(Test_case):\n",
    "    x = int(input())\n",
    "    for i in exchange(x):\n",
    "        print(i,end= ' ')\n",
    "    print()\n",
    "\n",
    "    \n",
    "\n",
    "\n",
    "\n",
    "   \n",
    "               \n",
    "\n",
    "\n"
   ]
  },
  {
   "cell_type": "markdown",
   "metadata": {},
   "source": [
    "#### 2869 달팽이는 올라가고 싶다."
   ]
  },
  {
   "cell_type": "code",
   "execution_count": 40,
   "metadata": {},
   "outputs": [
    {
     "name": "stdout",
     "output_type": "stream",
     "text": [
      "999999901\n"
     ]
    }
   ],
   "source": [
    " # while 문은 느리다.\n",
    "A,B,V = map(int,input().split())\n",
    "\n",
    "height = 0\n",
    "counts = 1\n",
    "while height < V:\n",
    "    height += A\n",
    "    if height < V:\n",
    "        counts += 1\n",
    "    height -= B\n",
    "\n",
    "print(counts)\n",
    "    "
   ]
  },
  {
   "cell_type": "code",
   "execution_count": 42,
   "metadata": {},
   "outputs": [
    {
     "name": "stdout",
     "output_type": "stream",
     "text": [
      "2\n"
     ]
    }
   ],
   "source": [
    "import math\n",
    "\n",
    "A, B, V = map(int, input().split())\n",
    "\n",
    "# (V - B)에서 A - B로 나누면 며칠이 필요한지 계산 가능\n",
    "days = math.ceil((V - B) / (A - B)) # ceil은 소수점일때, 1만큼 더해주는 함수.\n",
    "\n",
    "print(days)\n"
   ]
  },
  {
   "cell_type": "markdown",
   "metadata": {},
   "source": [
    "#### 2903 중앙이동 알고리즘"
   ]
  },
  {
   "cell_type": "code",
   "execution_count": 47,
   "metadata": {},
   "outputs": [
    {
     "name": "stdout",
     "output_type": "stream",
     "text": [
      "289\n"
     ]
    }
   ],
   "source": [
    "N = int(input())\n",
    "nums = (1+2**N)**2\n",
    "print(nums)"
   ]
  },
  {
   "cell_type": "markdown",
   "metadata": {},
   "source": [
    "#### 1193번 분수 찾기"
   ]
  },
  {
   "cell_type": "code",
   "execution_count": 55,
   "metadata": {},
   "outputs": [
    {
     "name": "stdout",
     "output_type": "stream",
     "text": [
      "abcddabbbcddddabbbbbcddddddabbbbbbbcdddddddd\n"
     ]
    }
   ],
   "source": [
    "X = int(input()) \n",
    "\n"
   ]
  },
  {
   "cell_type": "markdown",
   "metadata": {},
   "source": [
    "##### 라인 넘버 찾기\n",
    "##### 첫라인 1칸, 두번째라인 두칸, 세번째라인 세칸, 네번째 라인 4칸 ....\n",
    "\n",
    "##### *\n",
    "##### **\n",
    "##### ***\n",
    "##### ****\n",
    "##### ...\n",
    "\n",
    "##### 내가 입력한 번호가 몇번째 라인에 있고 몇번째 순서 인지 먼저 설계하기"
   ]
  },
  {
   "cell_type": "code",
   "execution_count": 58,
   "metadata": {},
   "outputs": [
    {
     "name": "stdout",
     "output_type": "stream",
     "text": [
      "13\n"
     ]
    }
   ],
   "source": [
    "# 라인 알려주는 설계\n",
    "X = int(input())\n",
    "line_num = 1\n",
    "line_order = X\n",
    "N = 1\n",
    "\n",
    "\n",
    "while line_order >= 0:\n",
    "    line_order = X - N\n",
    "    line_num += 1\n",
    "\n",
    "    \n",
    "\n",
    "\n",
    "    "
   ]
  },
  {
   "cell_type": "code",
   "execution_count": 65,
   "metadata": {},
   "outputs": [
    {
     "name": "stdout",
     "output_type": "stream",
     "text": [
      "7는 4번째 라인의 1번째에 위치합니다.\n"
     ]
    }
   ],
   "source": [
    "def find_line_and_position(number):\n",
    "    line = 1  # 라인을 1부터 시작\n",
    "    total_count = 0  # 지금까지 누적된 숫자의 개수\n",
    "\n",
    "    while True:\n",
    "        # 현재 라인에서 추가될 숫자의 개수는 그 라인의 번호와 동일함 (예: 1라인 -> 1개, 2라인 -> 2개)\n",
    "        total_count += line  # 이 라인의 숫자 개수를 누적\n",
    "        \n",
    "        # 만약 입력한 숫자가 이 라인에 속해있다면\n",
    "        if number <= total_count:\n",
    "            # 그 라인의 몇 번째 숫자인지 계산\n",
    "            position_in_line = number - (total_count - line)\n",
    "            return line, position_in_line\n",
    "        \n",
    "        # 다음 라인으로 넘어감\n",
    "        line += 1\n",
    "\n",
    "# 숫자 입력\n",
    "number = int(input(\"숫자를 입력하세요: \"))\n",
    "\n",
    "# 해당 숫자가 몇 번째 라인의 몇 번째에 위치하는지 찾기\n",
    "line, position = find_line_and_position(number)\n",
    "\n",
    "print(f\"{number}는 {line}번째 라인의 {position}번째에 위치합니다.\")\n"
   ]
  },
  {
   "cell_type": "code",
   "execution_count": null,
   "metadata": {},
   "outputs": [],
   "source": [
    "N = int(input())\n",
    "\n",
    "line = 0\n",
    "line_end_num = 0\n",
    "\n",
    "while line_end_num < N: # 주어진 수가 몇 번째 라인에 속해있는지 확인\n",
    "    line += 1\n",
    "    line_end_num += line\n",
    "\n",
    "K = line_end_num - N # 끝번째 수와 주어진 수의 차\n",
    "\n",
    "if line % 2 == 0: # 짝수 라인일 때\n",
    "    a = line - K\n",
    "    b = K + 1\n",
    "else:\n",
    "    a = K + 1\n",
    "    b = line - K\n",
    "\n",
    "print(str(a) + '/' + str(b)) # 정수 형태인 a, b를 문자열로 바꾸어 출력"
   ]
  },
  {
   "cell_type": "markdown",
   "metadata": {},
   "source": [
    "#### 진법 변환 1,2"
   ]
  },
  {
   "cell_type": "code",
   "execution_count": 69,
   "metadata": {},
   "outputs": [
    {
     "name": "stdout",
     "output_type": "stream",
     "text": [
      "60466175\n"
     ]
    }
   ],
   "source": [
    "N, B = input().split()\n",
    "\n",
    "print(int(N,int(B)))\n"
   ]
  },
  {
   "cell_type": "code",
   "execution_count": 81,
   "metadata": {},
   "outputs": [
    {
     "name": "stdout",
     "output_type": "stream",
     "text": [
      "7 2.33\n"
     ]
    }
   ],
   "source": [
    "# a, b, c 값을 입력받고 정수 또는 실수로 변환\n",
    "a, b, c = map(int, input().split())\n",
    "\n",
    "# 평균 계산\n",
    "result = (a + b + c) / 3\n",
    "\n",
    "# 결과 출력 (a + b + c는 그대로 출력하고, 평균은 소수점 둘째자리까지 출력)\n",
    "print(a + b + c, f'{result:.2f}')\n"
   ]
  }
 ],
 "metadata": {
  "kernelspec": {
   "display_name": "Python 3",
   "language": "python",
   "name": "python3"
  },
  "language_info": {
   "codemirror_mode": {
    "name": "ipython",
    "version": 3
   },
   "file_extension": ".py",
   "mimetype": "text/x-python",
   "name": "python",
   "nbconvert_exporter": "python",
   "pygments_lexer": "ipython3",
   "version": "3.10.10"
  }
 },
 "nbformat": 4,
 "nbformat_minor": 2
}
