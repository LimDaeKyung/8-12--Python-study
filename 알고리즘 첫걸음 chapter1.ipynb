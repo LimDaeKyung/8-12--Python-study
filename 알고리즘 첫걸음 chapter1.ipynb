{
 "cells": [
  {
   "cell_type": "code",
   "execution_count": 68,
   "metadata": {},
   "outputs": [
    {
     "name": "stdout",
     "output_type": "stream",
     "text": [
      "[1, 1, 2, 3, 5, 8, 13, 21]\n"
     ]
    }
   ],
   "source": [
    "# 피보나치 수열 함수\n",
    "a_1 = []\n",
    "\n",
    "def fibonacci(n):\n",
    "    if n ==0:\n",
    "        return 1\n",
    "    elif n == 1:\n",
    "        return 1\n",
    "    else:\n",
    "        return fibonacci(n-1) + fibonacci(n-2)\n",
    "\n",
    "for i in range(8):\n",
    "    a_1.append(fibonacci(i))\n",
    "\n",
    "print(a_1)"
   ]
  },
  {
   "cell_type": "markdown",
   "metadata": {},
   "source": [
    "#### 긴 줄의 작성 방법\n",
    "> 역슬래시(\\)을 사용 할 시 그 뒤의 줄바꿈을 무시하고 해당 행이 이어진다고 판단한다."
   ]
  },
  {
   "cell_type": "code",
   "execution_count": 34,
   "metadata": {},
   "outputs": [
    {
     "name": "stdout",
     "output_type": "stream",
     "text": [
      "long value\n"
     ]
    }
   ],
   "source": [
    "# 역슬래시 이용 \\\n",
    "long_name_variable = 11111\n",
    "if long_name_variable == 11111 \\\n",
    "or long_name_variable == 22222 \\\n",
    "or long_name_variable == 33333 :\n",
    "    print('long value')"
   ]
  },
  {
   "cell_type": "code",
   "execution_count": 35,
   "metadata": {},
   "outputs": [
    {
     "name": "stdout",
     "output_type": "stream",
     "text": [
      "abcdef\n"
     ]
    }
   ],
   "source": [
    "a = 'abc'\\\n",
    "    'def'\n",
    "print(a)"
   ]
  },
  {
   "cell_type": "markdown",
   "metadata": {},
   "source": [
    "> 리스트나 튜플 등과 같이 괄호로 묶은 경우에는 여러 줄이더라도 행이 이어진다고 판단합니다."
   ]
  },
  {
   "cell_type": "markdown",
   "metadata": {},
   "source": [
    "> enumerate함수 : 인덱스와 해당요소를 함께 반환해주는 함수"
   ]
  },
  {
   "cell_type": "code",
   "execution_count": 36,
   "metadata": {},
   "outputs": [
    {
     "name": "stdout",
     "output_type": "stream",
     "text": [
      "0 : 5\n",
      "1 : 3\n",
      "2 : 7\n"
     ]
    }
   ],
   "source": [
    "for i, e in enumerate([5,3,7]): #여기에서 \n",
    "    print(i,':',e)"
   ]
  },
  {
   "cell_type": "markdown",
   "metadata": {},
   "source": [
    "> while 반복 : 조건을 만족하는 동안에만 반복되는 상황처리"
   ]
  },
  {
   "cell_type": "markdown",
   "metadata": {},
   "source": [
    ">리스트 내포 : 단순 반복문을 사용하는 것 보다 빠르게 리스트 설정이 가능하다."
   ]
  },
  {
   "cell_type": "code",
   "execution_count": 37,
   "metadata": {},
   "outputs": [
    {
     "name": "stdout",
     "output_type": "stream",
     "text": [
      "[0, 1, 2, 3, 4, 5, 6, 7, 8, 9]\n"
     ]
    }
   ],
   "source": [
    "data = [i for i in range(10)]\n",
    "print(data)"
   ]
  },
  {
   "cell_type": "markdown",
   "metadata": {},
   "source": [
    "> 이때 조건을 지정해서 리스트 생성 가능"
   ]
  },
  {
   "cell_type": "code",
   "execution_count": 38,
   "metadata": {},
   "outputs": [
    {
     "name": "stdout",
     "output_type": "stream",
     "text": [
      "[0, 2, 4, 6, 8]\n"
     ]
    }
   ],
   "source": [
    "data_1 = [ i for i in range(10) if i %2 == 0] # if문은 원래 문장 뒤에 쓸 수 없지만 리스트 내포를 사용하면 조건을 문장 뒤에 지정 가능하다.\n",
    "print(data_1)"
   ]
  },
  {
   "cell_type": "markdown",
   "metadata": {},
   "source": [
    "> 리스트 내포에 의한 if-else : 조건을 충족하지 못하는 else문을 추가 할때에는 해당 조건을 앞쪽에 작성해야 한다."
   ]
  },
  {
   "cell_type": "code",
   "execution_count": 39,
   "metadata": {},
   "outputs": [
    {
     "name": "stdout",
     "output_type": "stream",
     "text": [
      "[0, 0, 2, 0, 4, 0, 6, 0, 8, 0]\n"
     ]
    }
   ],
   "source": [
    "data_2 = [i if i%2 ==0 else 0 for i in range(10)] # 짝수만 출력하고 홀수일때는 0으로 출력하게한다.\n",
    "print(data_2)"
   ]
  },
  {
   "cell_type": "code",
   "execution_count": 40,
   "metadata": {},
   "outputs": [
    {
     "name": "stdout",
     "output_type": "stream",
     "text": [
      "[0, '0', 2, '0', 4, '0', 6, '0', 8, '0']\n"
     ]
    }
   ],
   "source": [
    "data_2 = [i if i%2 ==0 else '0' for i in range(10)] # 짝수만 출력하고 홀수일때는 0으로 출력하게한다.\n",
    "print(data_2)"
   ]
  },
  {
   "cell_type": "markdown",
   "metadata": {},
   "source": [
    "> 함수\n",
    "- 함수의 정의에 사용되는 것이 매개변수이고 함수를 호출 할 때 함수에 전달되는 것이 인수"
   ]
  },
  {
   "cell_type": "code",
   "execution_count": 41,
   "metadata": {},
   "outputs": [],
   "source": [
    "def add(a,b):  # a,b는 매개변수\n",
    "    return a+b"
   ]
  },
  {
   "cell_type": "code",
   "execution_count": 42,
   "metadata": {},
   "outputs": [
    {
     "data": {
      "text/plain": [
       "7"
      ]
     },
     "execution_count": 42,
     "metadata": {},
     "output_type": "execute_result"
    }
   ],
   "source": [
    "add(3,4) #3,4는 인수"
   ]
  },
  {
   "cell_type": "code",
   "execution_count": 43,
   "metadata": {},
   "outputs": [
    {
     "data": {
      "text/plain": [
       "10"
      ]
     },
     "execution_count": 43,
     "metadata": {},
     "output_type": "execute_result"
    }
   ],
   "source": [
    "add(5,5) # 5,5는 인수"
   ]
  },
  {
   "cell_type": "code",
   "execution_count": 44,
   "metadata": {},
   "outputs": [
    {
     "data": {
      "text/plain": [
       "11"
      ]
     },
     "execution_count": 44,
     "metadata": {},
     "output_type": "execute_result"
    }
   ],
   "source": [
    "x = 5\n",
    "y = 6\n",
    "add(x,y) # 이때 x,y,는 인수"
   ]
  },
  {
   "cell_type": "markdown",
   "metadata": {},
   "source": [
    "- 값에 의한 전달 : 함수의 매개변수에 인수의 값을 복사해 전달하는 방법 / 이때 함수에서 a값이 변경되어도 호출한 x값은 변경되지 않는다.\n",
    "- 참조에 의한 전달 : 함수의 매개변수에 인수의 메모리 위치를 전달하는 방법\n",
    "> 파이썬은 기본적으로 참조에 의한 전달이 사용된다. 하지만 전달된 변수의 자료형에 따라 다르게 작동한다."
   ]
  },
  {
   "cell_type": "code",
   "execution_count": 45,
   "metadata": {},
   "outputs": [
    {
     "name": "stdout",
     "output_type": "stream",
     "text": [
      "2\n",
      "3\n"
     ]
    }
   ],
   "source": [
    "def calc(a):\n",
    "    a -= 1\n",
    "    return a\n",
    "\n",
    "x = 3\n",
    "print(calc(x))\n",
    "print(x) # x의 값은 변하지 않았다."
   ]
  },
  {
   "cell_type": "code",
   "execution_count": 46,
   "metadata": {},
   "outputs": [
    {
     "name": "stdout",
     "output_type": "stream",
     "text": [
      "[3, 2, 5]\n",
      "[3, 2, 5]\n"
     ]
    }
   ],
   "source": [
    "def calc(a):\n",
    "    a[0] -= 1\n",
    "    return a\n",
    "\n",
    "x = [4,2,5]\n",
    "print(calc(x))\n",
    "print(x) # x의 값이 변화 하였다.\n",
    "\n"
   ]
  },
  {
   "cell_type": "markdown",
   "metadata": {},
   "source": [
    "> 함수에 인수를 전달할 때는 해당 인수가 가변형인지 불변형인지 구현해야 한다."
   ]
  },
  {
   "cell_type": "markdown",
   "metadata": {},
   "source": [
    "#### 변수의 유효 범위"
   ]
  },
  {
   "cell_type": "markdown",
   "metadata": {},
   "source": [
    "> 변수에 값을 대입한 시점에 해당 변수의 자료형이 정해져 적절한 크기의 영역을 메모리에 확보한다. 이때 그 변수가 사용되는 범위를 알고 있어야한다."
   ]
  },
  {
   "cell_type": "markdown",
   "metadata": {},
   "source": [
    "- 지역변수 : 함수 내부 등 일부에서만 접근할 수 있는 변수\n",
    "- 인클로징 범위 변수 : 함수 외부에 있는 지역 변수(함수 내에서 함수를 정의하는 경우 등에 사용)\n",
    "- 전역 변수 : 프로그램(파일) 내에서 어디서나 접근할 수 있는 변수\n",
    "- 내장 변수 : len이나 range와 같은 내장 함수 등 어디서나 접근할 수 있는 변수"
   ]
  },
  {
   "cell_type": "code",
   "execution_count": 48,
   "metadata": {},
   "outputs": [
    {
     "name": "stdout",
     "output_type": "stream",
     "text": [
      "10\n",
      "30\n",
      "10\n"
     ]
    },
    {
     "ename": "NameError",
     "evalue": "name 'a_2' is not defined",
     "output_type": "error",
     "traceback": [
      "\u001b[0;31m---------------------------------------------------------------------------\u001b[0m",
      "\u001b[0;31mNameError\u001b[0m                                 Traceback (most recent call last)",
      "Cell \u001b[0;32mIn[48], line 11\u001b[0m\n\u001b[1;32m      9\u001b[0m check()\n\u001b[1;32m     10\u001b[0m \u001b[38;5;28mprint\u001b[39m(x)\n\u001b[0;32m---> 11\u001b[0m \u001b[38;5;28mprint\u001b[39m(\u001b[43ma_2\u001b[49m)\n",
      "\u001b[0;31mNameError\u001b[0m: name 'a_2' is not defined"
     ]
    }
   ],
   "source": [
    "x = 10 # 전역 변수에 값을 설정\n",
    "\n",
    "def check():\n",
    "    a_2 = 30 # 지역 변수에 값을 설정\n",
    "    print(x)\n",
    "    print(a_2)\n",
    "    return\n",
    "\n",
    "check()\n",
    "print(x)\n",
    "print(a_2) # 함수 check가 종료된 후에 x와 a값을 출력하려고 하면 x값은 출력할 수 있지만 a값은 정의하지 않아 오류가 발생"
   ]
  },
  {
   "cell_type": "code",
   "execution_count": 52,
   "metadata": {},
   "outputs": [
    {
     "name": "stdout",
     "output_type": "stream",
     "text": [
      "10\n",
      "30\n",
      "30\n"
     ]
    }
   ],
   "source": [
    "x = 10\n",
    "if True:\n",
    "    a_4 = 30  # if,for 문 안에서 변수에 대입이 가능하다.\n",
    "    print(x)\n",
    "    print(a_4)\n",
    "print(a_4)"
   ]
  },
  {
   "cell_type": "markdown",
   "metadata": {},
   "source": [
    "> 전역 변수는 함수 내에서 읽어들이는 것만 가능합니다. 따라서 함수 내에서 값을 얻을 수 있지만 함수 내에서 다시 값을 쓸 수는 없습니다."
   ]
  },
  {
   "cell_type": "code",
   "execution_count": 67,
   "metadata": {},
   "outputs": [
    {
     "ename": "UnboundLocalError",
     "evalue": "local variable 'x' referenced before assignment",
     "output_type": "error",
     "traceback": [
      "\u001b[0;31m---------------------------------------------------------------------------\u001b[0m",
      "\u001b[0;31mUnboundLocalError\u001b[0m                         Traceback (most recent call last)",
      "Cell \u001b[0;32mIn[67], line 6\u001b[0m\n\u001b[1;32m      3\u001b[0m     x \u001b[38;5;241m+\u001b[39m\u001b[38;5;241m=\u001b[39m \u001b[38;5;241m30\u001b[39m   \u001b[38;5;66;03m# 갱신하려는 변수 x는 지역 변수\u001b[39;00m\n\u001b[1;32m      4\u001b[0m     \u001b[38;5;28mprint\u001b[39m(x)\n\u001b[0;32m----> 6\u001b[0m \u001b[43mupdate\u001b[49m\u001b[43m(\u001b[49m\u001b[43m)\u001b[49m\n\u001b[1;32m      7\u001b[0m \u001b[38;5;28mprint\u001b[39m(x)\n",
      "Cell \u001b[0;32mIn[67], line 3\u001b[0m, in \u001b[0;36mupdate\u001b[0;34m()\u001b[0m\n\u001b[1;32m      2\u001b[0m \u001b[38;5;28;01mdef\u001b[39;00m \u001b[38;5;21mupdate\u001b[39m():\n\u001b[0;32m----> 3\u001b[0m     x \u001b[38;5;241m+\u001b[39m\u001b[38;5;241m=\u001b[39m \u001b[38;5;241m30\u001b[39m   \u001b[38;5;66;03m# 갱신하려는 변수 x는 지역 변수\u001b[39;00m\n\u001b[1;32m      4\u001b[0m     \u001b[38;5;28mprint\u001b[39m(x)\n",
      "\u001b[0;31mUnboundLocalError\u001b[0m: local variable 'x' referenced before assignment"
     ]
    }
   ],
   "source": [
    "x = 10\n",
    "def update():\n",
    "    x += 30   # 갱신하려는 변수 x는 지역 변수\n",
    "    print(x)\n",
    "\n",
    "update()\n",
    "print(x)\n",
    "\n"
   ]
  },
  {
   "cell_type": "code",
   "execution_count": 55,
   "metadata": {},
   "outputs": [
    {
     "name": "stdout",
     "output_type": "stream",
     "text": [
      "30\n",
      "10\n"
     ]
    }
   ],
   "source": [
    "x = 10\n",
    "def reset():\n",
    "    x = 30 # 전역 변수 x와 같은 이름이지만 지역 변수로 처리된다.\n",
    "    print(x)\n",
    "\n",
    "reset()\n",
    "print(x)"
   ]
  },
  {
   "cell_type": "code",
   "execution_count": 56,
   "metadata": {},
   "outputs": [
    {
     "name": "stdout",
     "output_type": "stream",
     "text": [
      "10\n",
      "30\n",
      "30\n"
     ]
    }
   ],
   "source": [
    "x = 10\n",
    "\n",
    "def reset():\n",
    "    global x  # 전역 변수로 선언됨\n",
    "    x = 30\n",
    "    print(x)\n",
    "\n",
    "print(x)\n",
    "reset()\n",
    "print(x)"
   ]
  },
  {
   "cell_type": "markdown",
   "metadata": {},
   "source": [
    "> 전역 변수를 사용하면 인수나 반환값을 사용하지 않고 함수 안팎에서 값을 주고 받으수 있다.\n",
    "- 하지만 예상치 못한 부분에서 변수의 내용을 갱신할 가능성이 있으므로 대규모 소스코드를 작성하는 경우에는 최대한 변수의 유효 범위를 좁히는 것이 중요하다.\n",
    "- 따라서 가능한 전역 변수는 사용하지 않고 지역 변수를 사용 할 것."
   ]
  },
  {
   "cell_type": "markdown",
   "metadata": {},
   "source": [
    "#### 객체 지향과 클래스"
   ]
  },
  {
   "cell_type": "markdown",
   "metadata": {},
   "source": [
    "> 객체 지향에서는 데이터와 작업을 한곳에 모아 처리하는 것이 특징\n",
    "- 한덩이로 처리하면 수정의 영향을 최소화하는 등 유지보수를 쉽게 할 수 있습니다.\n",
    "- 한 덩어리로 만든 대상을 객체라고 하며, 객체 내부의 데이터에는 준비된 조작을 통해서만 접근할 수 있도록 하는 캡슐화라는 구조가 있다."
   ]
  },
  {
   "cell_type": "markdown",
   "metadata": {},
   "source": [
    "> 다른곳에 보일 필요가 없는 조작은 외부에서 처리할 수 없도록 할 뿐만 아니라 필요한 조작만 공개하여 잘못된 방법으로 사용되는 것을 방지합니다."
   ]
  },
  {
   "cell_type": "markdown",
   "metadata": {},
   "source": [
    "> 객체 지향에서는 처리 대상을 객체 단위로 분할해 객체끼리 메시지를 주고받으며 작업을 진행합니다. 또한 객체의 설계도와 같은 것을 클래스라고 하며, 실체화한 것을 인스턴스라고 합니다."
   ]
  },
  {
   "cell_type": "code",
   "execution_count": 57,
   "metadata": {},
   "outputs": [],
   "source": [
    "class User: #User 클래스 정의\n",
    "    def __init__(self,name,password):  # 생성자 정의  \n",
    "        self.name = name\n",
    "        self.password = password\n",
    "    def login(self,password): # 로그인 메서드 정의\n",
    "        if self.password == password:\n",
    "            return True\n",
    "        else:\n",
    "            return False\n",
    "    def logout(self):  # 로그아웃 메서드 정의\n",
    "        print('logout')"
   ]
  },
  {
   "cell_type": "code",
   "execution_count": 58,
   "metadata": {},
   "outputs": [
    {
     "name": "stdout",
     "output_type": "stream",
     "text": [
      "logout\n"
     ]
    }
   ],
   "source": [
    "a = User('admin','password')  # 사용자 이름 admin, 암호 password인 사용자 만들기\n",
    "if a.login('password'):  # 암호 password를 사용해 로그인 한 상태\n",
    "    a.logout()"
   ]
  },
  {
   "cell_type": "markdown",
   "metadata": {},
   "source": [
    "> 메서드를 정의할 때는 다른 언어와 달리 인수에 self를 반드시 작성해야 합니다. 파이썬은 메서드에 반드시 하나의 인수를 지정해야 하며, 첫 번째 인수를 self로 하는 관례가 있다."
   ]
  },
  {
   "cell_type": "markdown",
   "metadata": {},
   "source": [
    "> 클래스 상속"
   ]
  },
  {
   "cell_type": "code",
   "execution_count": 59,
   "metadata": {},
   "outputs": [
    {
     "name": "stdout",
     "output_type": "stream",
     "text": [
      "logout\n"
     ]
    }
   ],
   "source": [
    "class GuestUser(User):   # User 클래스를 상속하여 GuestUser 클래스를 정의\n",
    "    def __init__(self):  \n",
    "        super().__init__('guest','guest')   # super() > 부모 클래스 User의 __init__을 호출\n",
    "\n",
    "b = GuestUser()\n",
    "if b.login('guest'):\n",
    "    b.logout()"
   ]
  },
  {
   "cell_type": "markdown",
   "metadata": {},
   "source": [
    "> chapter 1. 이해도 check!"
   ]
  },
  {
   "cell_type": "code",
   "execution_count": 60,
   "metadata": {},
   "outputs": [
    {
     "name": "stdout",
     "output_type": "stream",
     "text": [
      "3\n",
      "7\n",
      "3\n"
     ]
    }
   ],
   "source": [
    "x = 3\n",
    "\n",
    "def calc(x):\n",
    "    x += 4\n",
    "    return x\n",
    "\n",
    "print(x)\n",
    "print(calc(x))\n",
    "print(x)"
   ]
  },
  {
   "cell_type": "code",
   "execution_count": 61,
   "metadata": {},
   "outputs": [
    {
     "name": "stdout",
     "output_type": "stream",
     "text": [
      "[3]\n",
      "[7]\n",
      "[7]\n"
     ]
    }
   ],
   "source": [
    "a = [3]\n",
    "\n",
    "def calc(a):\n",
    "    a[0] += 4\n",
    "    return a\n",
    "\n",
    "print(a)\n",
    "print(calc(a))\n",
    "print(a)"
   ]
  },
  {
   "cell_type": "code",
   "execution_count": 62,
   "metadata": {},
   "outputs": [
    {
     "name": "stdout",
     "output_type": "stream",
     "text": [
      "[3]\n",
      "[4]\n",
      "[3]\n"
     ]
    }
   ],
   "source": [
    "a = [3]\n",
    "\n",
    "def calc(a):\n",
    "    a = [4]\n",
    "    return a\n",
    "\n",
    "print(a)\n",
    "print(calc(a))\n",
    "print(a)\n"
   ]
  }
 ],
 "metadata": {
  "kernelspec": {
   "display_name": "Python 3",
   "language": "python",
   "name": "python3"
  },
  "language_info": {
   "codemirror_mode": {
    "name": "ipython",
    "version": 3
   },
   "file_extension": ".py",
   "mimetype": "text/x-python",
   "name": "python",
   "nbconvert_exporter": "python",
   "pygments_lexer": "ipython3",
   "version": "3.10.10"
  }
 },
 "nbformat": 4,
 "nbformat_minor": 2
}
